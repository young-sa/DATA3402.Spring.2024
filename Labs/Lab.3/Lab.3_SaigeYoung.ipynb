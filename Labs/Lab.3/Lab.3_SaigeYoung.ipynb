{
 "cells": [
  {
   "cell_type": "markdown",
   "metadata": {},
   "source": [
    "# Lab 3\n",
    "\n",
    "In this lab we will become familiar with distributions, histograms, and functional programming. Do not use numpy or any other library for this lab.\n",
    "\n",
    "Before that, lets get setup homework submission and submit your previous lab.  \n",
    "\n",
    "## Working on the Command-line.\n",
    "\n",
    "It is important for you to learn to work on the command line and to be familiar with the Unix environment (e.g. Linux, Mac OS, or Windows Linux Subsystem). We'll go over working on the command-line in detail later in the course.\n",
    "\n",
    "You are required to submit your work in this course via GitHub. Today in class, you will setup everything on the command-line.\n",
    "\n",
    "### Command-line basics\n",
    "\n",
    "There is plenty of material online that will help you figure out how to do various tasks on the command line. Commands you may need to know today:\n",
    "\n",
    "* `ls`: lists the contents of the current directory.\n",
    "* `pwd`: prints the path of the current directory.\n",
    "* `cd <directory>`: changes your current directory to the specified directory.\n",
    "* `cd ..`: changes current directory to the previous directory. Basically steps out of the current directory to the directory containing the current directory.\n",
    "* `mkdir <directory>`: create a new directory with the specified name.\n",
    "* `rmdir <directory>`: removes the specified directory. Note it has to be empty.\n",
    "* `rm <filename>`: deletes the specified file.\n",
    "* `mv <filename 1> <filename 1>`: Moves or renames a file.\n",
    "* `cp <filename 1> <filename 2>`: copies an file. If you just provide a path to a directory, it copies the file into that directory with the same filename. If you specifiy a new filename, the copy has a new name. For example `cp File.1.txt File.2.txt` creates a copy of `File.1.txt` with the name `File.2.txt`. Meanwhile `cp File.1.txt my_directory`, where `my_directory` is a directory, creates a copy of `File.1.txt` in directory `my_directory` with the name `File.1.txt`.\n",
    "\n",
    "For reference, here are some example resources I found by googling:\n",
    "\n",
    "* Paths and Wildcards: https://www.warp.dev/terminus/linux-wildcards\n",
    "* Basic commands like copy: https://kb.iu.edu/d/afsk\n",
    "* General introduction to shell: https://github-pages.ucl.ac.uk/RCPSTrainingMaterials/HPCandHTCusingLegion/2_intro_to_shell.html\n",
    "* Manual pages: https://www.geeksforgeeks.org/linux-man-page-entries-different-types/?ref=ml_lbp\n",
    "* Chaining commands: https://www.geeksforgeeks.org/chaining-commands-in-linux/?ref=ml_lbp\n",
    "* Piping: https://www.geeksforgeeks.org/piping-in-unix-or-linux/\n",
    "* Using sed: https://www.geeksforgeeks.org/sed-command-linux-set-2/?ref=ml_lbp\n",
    "* Various Unix commands: https://www.geeksforgeeks.org/linux-commands/?ref=lbp\n",
    "* Cheat sheets:\n",
    "    * https://www.stationx.net/unix-commands-cheat-sheet/\n",
    "    * https://cheatography.com/davechild/cheat-sheets/linux-command-line/\n",
    "    * https://www.theknowledgeacademy.com/blog/unix-commands-cheat-sheet/\n",
    "    \n",
    "These aren't necessarily the best resources. Feel free to search for better ones. Also, don't forget that Unix has built-in manual pages for all of its commands. Just type `man <command>` at the command prompt. Use the space-bar to scroll through the documentation and \"q\" to exit.\n",
    "\n",
    "\n",
    "### Setup and Submission\n",
    "\n",
    "Our course repository is public. The instructions here aim to have you setup a fork of the course repository. Unfortunately because you are forking a public repo, your fork will have to be public also. \n",
    "\n",
    "You should be familiar with git from the first semester of this course. I assume that you all have github accounts and have setup things to be able to [push to github using ssh](https://docs.github.com/en/github/authenticating-to-github/connecting-to-github-with-ssh). The instuctions here lead you to:\n",
    "\n",
    "We'll overview what you will do before going through step by step instructions.\n",
    "\n",
    "1. Setup:\n",
    "    1. Fork the class repository. Some directions in [fork-a-repo](https://docs.github.com/en/github/getting-started-with-github/fork-a-repo).\n",
    "    1. Create a directory on your personal system where you will keep all course materials.\n",
    "    1. In that directory, clone your fork of the repository.\n",
    "    1. Using `git remote`, set the upstream to be the class repo, so you can pull from the class and push to your fork.\n",
    "\n",
    "1. Submission:\n",
    "    1. Copy your solutions into the appropriate directory (e.g. into `Labs/Lab.2/`) and with appropriate filename `Lab.2.solution.ipynb'.\n",
    "    1. Commit / push your solutions.\n",
    "    1. Grant access to course instructors.\n",
    "\n",
    "Below are step by step instructions with examples (including example directory naming convention). Feel free to modify things as you see fit. \n",
    "\n",
    "#### Setup\n",
    "You should only need to follow this instructions once. Here are some useful git commands:\n",
    "\n",
    "* Git help: `git help`\n",
    "* Git remote help: `git help remote`\n",
    "* Check remote status: `git remote -v`\n",
    "* Add a remote: `git remote add <stream name> <repo URL>`\n",
    "* Add a remove: `git remote remove <stream name>`\n",
    "\n",
    "Steps:\n",
    "1. In a browser, log into GitHub and navigate to the [course repository](https://github.com/UTA-DataScience/DATA3402.Spring.2024).\n",
    "1. On the top right of the page, press the fork button to create a new fork into your own GitHub account.\n",
    "1. After successful fork, you should find the browser showing your fork of the course repository. Use the green \"Code\" button to copy path to the repo into your the clipboard of your computer.\n",
    "1. Open a shell on your personal computer.\n",
    "1. If you have not done so already, create a new directory/folder where you will keep all course material to navigate to it. For example: `mkdir Data-3402` and `cd Data-3402`.\n",
    "1. Clone your fork of the repository using `git clone` followed by the path you copied into your clipboard. (copy/paste)\n",
    "1. Paste the URL to your fork in the worksheet for the TAs and instructors.\n",
    "1. Now go into the directory of your clone (`cd DATA3402.Spring.2024`).\n",
    "1. Type `git remote -v` to see the current setup for fetch and pull.\n",
    "1. Note the URL you see. This should be the same as what you used for your clone for both push and fetch.\n",
    "1. Delete the origin remote using `git remote remove origin`.\n",
    "1. Add the course repo as your remote using `git remote add origin https://github.com/UTA-DataScience/DATA3402.Spring.2024.git`.\n",
    "1. Change the push to point to your fork. This means you will need the URL to your clone we copied earlier and confirmed as the original origin. The command will look something like: `git remote set-url --push origin  https://github.com/XXXXXX/DATA3402.Spring.2024.git`, where XXXXX is your username on GitHub.\n",
    "1. Note that if you setup everything correctly, you now should be able to do `git pull` to get updates from the course repo, and do `git push` to push your commits into your own fork.\n",
    "\n",
    "### Submission\n",
    "These instructions outline how you submit files. Some useful commands:\n",
    "* To add a file to local repository: `git add <file>`.\n",
    "* To commit all changed files into local repository: `git -a -m \"A message\"`. You need to provide some comment when you commit. \n",
    "* To push the commited files from the local repository to GitHub: `git push`.\n",
    "* To get updates from GitHub: `git pull`.\n",
    "\n",
    "Steps:\n",
    "1. To submit your labs, navigate to your clone of your fork of the course repository. \n",
    "1. Use `git pull` to make sure you have the latest updates. \n",
    "1. Make sure your copy of the lab your are working on is in the appropriate place in this clone. That means if you have the file elsewhere, copy it to the same directory in your clone of your fork. \n",
    "1. Note that in order to avoid future conflicts, you should always name your solution differently than the original file in the class repo. For example if your file is still named `Lab.2.ipynb` you should rename it using the `mv` command: `mv Lab.2.ipynb Lab.2.solution.ipynb`. \n",
    "1. Add and files you wish to submit into the repo. For example: `git add Labs/Lab.2/Lab.2.solution.ipynb`\n",
    "1. Commit any changes: `git commit -a -m \"Lab 2 updates\"`\n",
    "1. Push your changes: `git push`\n",
    "1. Check on github website that your solutions have been properly submitted.\n",
    "\n",
    "Before you leave the session today, submit your Lab.2 solution as is now to make sure you can do it. If you need to work further on your lab, navigate jupyter to the copy of the lab you just submitted and work there. Once done, repeat the commit and push commands to submit your updated solution. Note that lab 2 is due by midnight today (Friday 2/9/2024).\n"
   ]
  },
  {
   "cell_type": "markdown",
   "metadata": {},
   "source": [
    "### Uniform Distribution\n",
    "Lets start with generating some fake random data. You can get a random number between 0 and 1 using the python random module as follow:"
   ]
  },
  {
   "cell_type": "code",
   "execution_count": 49,
   "metadata": {},
   "outputs": [
    {
     "name": "stdout",
     "output_type": "stream",
     "text": [
      "The Value of x is 0.8374605277091296\n"
     ]
    }
   ],
   "source": [
    "import random\n",
    "x=random.random()\n",
    "print(\"The Value of x is\", x)"
   ]
  },
  {
   "cell_type": "markdown",
   "metadata": {},
   "source": [
    "Everytime you call random, you will get a new number.\n",
    "\n",
    "*Exercise 1:* Using random, write a function `generate_uniform(N, mymin, mymax)`, that returns a python list containing N random numbers between specified minimum and maximum value. Note that you may want to quickly work out on paper how to turn numbers between 0 and 1 to between other values. "
   ]
  },
  {
   "cell_type": "code",
   "execution_count": 50,
   "metadata": {},
   "outputs": [],
   "source": [
    "# Skeleton\n",
    "def generate_uniform(N,x_min,x_max):\n",
    "    out = []\n",
    "    ### BEGIN SOLUTION\n",
    "    for _ in range(N):\n",
    "        rand_num=x_min + (x_max - x_min) * random.random()\n",
    "        out.append(rand_num)     \n",
    "    \n",
    "    ### END SOLUTION\n",
    "    return out"
   ]
  },
  {
   "cell_type": "code",
   "execution_count": 51,
   "metadata": {},
   "outputs": [
    {
     "name": "stdout",
     "output_type": "stream",
     "text": [
      "Data Type: <class 'list'>\n",
      "Data Length: 1000\n",
      "Type of Data Contents: <class 'float'>\n",
      "Data Minimum: -9.987941232144504\n",
      "Data Maximum: 9.964173042683882\n"
     ]
    }
   ],
   "source": [
    "# Test your solution here\n",
    "data=generate_uniform(1000,-10,10)\n",
    "print (\"Data Type:\", type(data))\n",
    "print (\"Data Length:\", len(data))\n",
    "if len(data)>0: \n",
    "    print (\"Type of Data Contents:\", type(data[0]))\n",
    "    print (\"Data Minimum:\", min(data))\n",
    "    print (\"Data Maximum:\", max(data))"
   ]
  },
  {
   "cell_type": "markdown",
   "metadata": {},
   "source": [
    "*Exercise 2a:* \n",
    "Write a function that computes the mean of values in a list. Recall the equation for the mean of a random variable $\\bf{x}$ computed on a data set of $n$ values $\\{ x_i \\} = \\{x_1, x_2, ..., x_n\\}$  is ${\\bf\\bar{x}} = \\frac{1}{n} \\sum_i^n x_i$."
   ]
  },
  {
   "cell_type": "code",
   "execution_count": 52,
   "metadata": {},
   "outputs": [],
   "source": [
    "# Skeleton\n",
    "def mean(Data):\n",
    "    m=0.\n",
    "    \n",
    "    ### BEGIN SOLUTION\n",
    "\n",
    "    tot_sum=sum(Data)\n",
    "    m=tot_sum/len(Data) if Data else 0\n",
    "    \n",
    "    ### END SOLUTION\n",
    "    \n",
    "    return m"
   ]
  },
  {
   "cell_type": "code",
   "execution_count": 53,
   "metadata": {},
   "outputs": [
    {
     "name": "stdout",
     "output_type": "stream",
     "text": [
      "Mean of Data: 0.06558898641255145\n"
     ]
    }
   ],
   "source": [
    "# Test your solution here\n",
    "print (\"Mean of Data:\", mean(data))"
   ]
  },
  {
   "cell_type": "markdown",
   "metadata": {},
   "source": [
    "*Exercise 2b:* \n",
    "Write a function that computes the variance of values in a list. Recall the equation for the variance of a random variable $\\bf{x}$ computed on a data set of $n$ values $\\{ x_i \\} = \\{x_1, x_2, ..., x_n\\}$  is ${\\bf\\langle x \\rangle} = \\frac{1}{n} \\sum_i^n (x_i - {\\bf\\bar{x}})$."
   ]
  },
  {
   "cell_type": "code",
   "execution_count": 54,
   "metadata": {},
   "outputs": [],
   "source": [
    "# Skeleton\n",
    "def variance(Data):\n",
    "    m=0.\n",
    "    \n",
    "    ### BEGIN SOLUTION\n",
    "\n",
    "    mean=sum(Data)/len(Data) if Data else 0\n",
    "    m=sum((xi-mean)**2 for xi in Data)/len(Data) if Data else 0\n",
    "    \n",
    "    ### END SOLUTION\n",
    "    \n",
    "    return m"
   ]
  },
  {
   "cell_type": "code",
   "execution_count": 55,
   "metadata": {},
   "outputs": [
    {
     "name": "stdout",
     "output_type": "stream",
     "text": [
      "Variance of Data: 32.51757383043649\n"
     ]
    }
   ],
   "source": [
    "# Test your solution here\n",
    "print (\"Variance of Data:\", variance(data))"
   ]
  },
  {
   "cell_type": "markdown",
   "metadata": {},
   "source": [
    "## Histogramming"
   ]
  },
  {
   "cell_type": "markdown",
   "metadata": {},
   "source": [
    "*Exercise 3:* Write a function that bins the data so that you can create a histogram. An example of how to implement histogramming is the following logic:\n",
    "\n",
    "* User inputs a list of values `x` and optionally `n_bins` which defaults to 10.\n",
    "* If not supplied, find the minimum and maximum (`x_min`,`x_max`) of the values in x.\n",
    "* Determine the bin size (`bin_size`) by dividing the range of the function by the number of bins.\n",
    "* Create an empty list of zeros of size `n_bins`, call it `hist`.\n",
    "* Loop over the values in `x`\n",
    "    * Loop over the values in `hist` with index `i`:\n",
    "        * If x is between `x_min+i*bin_size` and `x_min+(i+1)*bin_size`, increment `hist[i].` \n",
    "        * For efficiency, try to use continue to goto the next bin and data point.\n",
    "* Return `hist` and the list corresponding of the bin edges (i.e. of `x_min+i*bin_size`).    "
   ]
  },
  {
   "cell_type": "code",
   "execution_count": 56,
   "metadata": {},
   "outputs": [],
   "source": [
    "# Solution\n",
    "def histogram(x,n_bins=10,x_min=None,x_max=None):\n",
    "    ### BEGIN SOLUTION\n",
    "\n",
    "    if x_min is None:\n",
    "        x_min=min(x)\n",
    "    if x_max is None:\n",
    "        x_max=max(x)\n",
    "\n",
    "    bin_size=(x_max-x_min)/n_bins\n",
    "\n",
    "    hist=[0]*n_bins\n",
    "\n",
    "    bin_edges=[x_min+i*bin_size for i in range(n_bins+1)]\n",
    "\n",
    "    for value in x:\n",
    "        for i in range(n_bins):\n",
    "            if x_min+i*bin_size<=value<x_min+(i+1)*bin_size:\n",
    "                hist[i]+=1\n",
    "                break\n",
    "            elif i==n_bins-1 and value==x_max:\n",
    "                hist[i]+=1\n",
    "                break\n",
    "    \n",
    "    ### END SOLUTION\n",
    "\n",
    "    return hist,bin_edges"
   ]
  },
  {
   "cell_type": "code",
   "execution_count": 57,
   "metadata": {},
   "outputs": [
    {
     "name": "stdout",
     "output_type": "stream",
     "text": [
      "[9, 12, 9, 8, 5, 13, 19, 7, 9, 10, 11, 7, 9, 8, 9, 5, 8, 11, 10, 9, 12, 12, 8, 9, 7, 5, 15, 9, 18, 9, 8, 12, 13, 12, 7, 8, 19, 10, 5, 11, 9, 6, 9, 10, 7, 11, 9, 8, 9, 11, 13, 15, 9, 8, 11, 8, 9, 7, 12, 15, 8, 9, 8, 14, 15, 6, 14, 12, 15, 18, 10, 5, 9, 8, 9, 7, 12, 11, 7, 12, 8, 13, 14, 11, 11, 5, 11, 10, 8, 10, 8, 12, 9, 9, 14, 8, 8, 8, 6, 15]\n"
     ]
    }
   ],
   "source": [
    "# Test your solution here\n",
    "h,b=histogram(data,100)\n",
    "print(h)"
   ]
  },
  {
   "cell_type": "markdown",
   "metadata": {},
   "source": [
    "*Exercise 4:* Write a function that uses the histogram function in the previous exercise to create a text-based \"graph\". For example the output could look like the following:\n",
    "```\n",
    "[  0,  1] : ######\n",
    "[  1,  2] : #####\n",
    "[  2,  3] : ######\n",
    "[  3,  4] : ####\n",
    "[  4,  5] : ####\n",
    "[  5,  6] : ######\n",
    "[  6,  7] : #####\n",
    "[  7,  8] : ######\n",
    "[  8,  9] : ####\n",
    "[  9, 10] : #####\n",
    "```\n",
    "\n",
    "Where each line corresponds to a bin and the number of `#`'s are proportional to the value of the data in the bin. "
   ]
  },
  {
   "cell_type": "code",
   "execution_count": 58,
   "metadata": {},
   "outputs": [],
   "source": [
    "# Solution\n",
    "def draw_histogram(x,n_bins,x_min=None,x_max=None,character=\"#\",max_character_per_line=20):\n",
    "    ### BEGIN SOLUTION\n",
    "\n",
    "    hist, bin_edges=histogram(x, n_bins, x_min, x_max)\n",
    "\n",
    "    max_count=max(hist)\n",
    "    scale_factor=max_count/max_character_per_line\n",
    "\n",
    "    for i in range(n_bins):\n",
    "        bin_range=f\"[{bin_edges[i]:>3}, {bin_edges[i+1]:>3}] :\"\n",
    "        num_characters=int(hist[i]/scale_factor)\n",
    "        bar=character*num_characters\n",
    "        print(f\"{bin_range} {bar}\")    \n",
    "    \n",
    "    ### END SOLUTION\n",
    "\n",
    "    return hist,bin_edges"
   ]
  },
  {
   "cell_type": "code",
   "execution_count": 59,
   "metadata": {},
   "outputs": [
    {
     "name": "stdout",
     "output_type": "stream",
     "text": [
      "[43, 58, 44, 43, 48, 56, 52, 53, 41, 48, 56, 51, 54, 65, 41, 49, 57, 44, 52, 45]\n"
     ]
    }
   ],
   "source": [
    "# Test your solution here\n",
    "h,b=histogram(data,20)\n",
    "print(h)"
   ]
  },
  {
   "cell_type": "markdown",
   "metadata": {},
   "source": [
    "## Functional Programming\n",
    "\n",
    "*Exercise 5:* Write a function the applies a booling function (that returns true/false) to every element in data, and return a list of indices of elements where the result was true. Use this function to find the indices of entries greater than 0.5. "
   ]
  },
  {
   "cell_type": "code",
   "execution_count": 60,
   "metadata": {},
   "outputs": [],
   "source": [
    "def where(mylist,myfunc):\n",
    "    out= []\n",
    "    \n",
    "    ### BEGIN SOLUTION\n",
    "\n",
    "    for i, item in enumerate(mylist):\n",
    "        if myfunc(item):\n",
    "            out.append(i) \n",
    "    \n",
    "    ### END SOLUTION\n",
    "    \n",
    "    return out"
   ]
  },
  {
   "cell_type": "code",
   "execution_count": 61,
   "metadata": {},
   "outputs": [
    {
     "name": "stdout",
     "output_type": "stream",
     "text": [
      "[1, 3]\n"
     ]
    }
   ],
   "source": [
    "# Test your solution here\n",
    "def is_greater_than_0_5(x):\n",
    "    return x>0.5\n",
    "\n",
    "a_list=[0.1, 0.6, 0.2, 0.8, 0.3]\n",
    "indices=where(a_list, is_greater_than_0_5)\n",
    "\n",
    "print(indices)"
   ]
  },
  {
   "cell_type": "markdown",
   "metadata": {},
   "source": [
    "*Exercise 6:* The `inrange(mymin,mymax)` function below returns a function that tests if it's input is between the specified values. Write corresponding functions that test:\n",
    "* Even\n",
    "* Odd\n",
    "* Greater than\n",
    "* Less than\n",
    "* Equal\n",
    "* Divisible by"
   ]
  },
  {
   "cell_type": "code",
   "execution_count": 62,
   "metadata": {},
   "outputs": [
    {
     "name": "stdout",
     "output_type": "stream",
     "text": [
      "True True False False False\n",
      "False False True True False\n",
      "Number of Entries passing F1: 513\n",
      "Number of Entries passing F2: 0\n"
     ]
    }
   ],
   "source": [
    "def in_range(mymin,mymax):\n",
    "    def testrange(x):\n",
    "        return x<mymax and x>=mymin\n",
    "    return testrange\n",
    "\n",
    "# Examples:\n",
    "F1=in_range(0,10)\n",
    "F2=in_range(10,20)\n",
    "\n",
    "# Test of in_range\n",
    "print (F1(0), F1(1), F1(10), F1(15), F1(20))\n",
    "print (F2(0), F2(1), F2(10), F2(15), F2(20))\n",
    "\n",
    "print (\"Number of Entries passing F1:\", len(where(data,F1)))\n",
    "print (\"Number of Entries passing F2:\", len(where(data,F2)))"
   ]
  },
  {
   "cell_type": "code",
   "execution_count": 63,
   "metadata": {},
   "outputs": [],
   "source": [
    "### BEGIN SOLUTION\n",
    "def is_even(): #testing even\n",
    "    def test(x):\n",
    "        return x%2==0\n",
    "    return test\n",
    "\n",
    "def is_odd(): #testing odd\n",
    "    def test(x):\n",
    "        return x%2!=0\n",
    "    return test\n",
    "\n",
    "def greater_than(mymin): #testing greater than\n",
    "    def test(x):\n",
    "        return x>mymin\n",
    "    return test\n",
    "\n",
    "def less_than(mymax): #testing less than\n",
    "    def test(x):\n",
    "        return x<mymax\n",
    "    return test\n",
    "\n",
    "def is_equal(myval): #testing equal\n",
    "    def test(x):\n",
    "        return x==myval\n",
    "    return test\n",
    "\n",
    "def divisible_by(mydiv): #testing divisible by\n",
    "    def test(x):\n",
    "        return x%mydiv==0\n",
    "    return test\n",
    "    \n",
    "### END SOLUTION"
   ]
  },
  {
   "cell_type": "code",
   "execution_count": 64,
   "metadata": {},
   "outputs": [
    {
     "name": "stdout",
     "output_type": "stream",
     "text": [
      "Even numbers: [0, 2, 4, 6, 8, 10]\n",
      "Odd numbers: [1, 3, 5, 7, 9]\n",
      "Numbers greater than 4: [5, 6, 7, 8, 9, 10]\n",
      "Numbers less than 4: [0, 1, 2, 3]\n",
      "Numbers equal to 3: [3]\n",
      "Numbers divisible by 2: [0, 2, 4, 6, 8, 10]\n"
     ]
    }
   ],
   "source": [
    "# Test your solution\n",
    "data=[0, 1, 2, 3, 4, 5, 6, 7, 8, 9, 10]\n",
    "\n",
    "print(\"Even numbers:\", where(data, is_even()))\n",
    "print(\"Odd numbers:\", where(data, is_odd()))\n",
    "print(\"Numbers greater than 4:\", where(data, greater_than(4)))\n",
    "print(\"Numbers less than 4:\", where(data, less_than(4)))\n",
    "print(\"Numbers equal to 3:\", where(data, is_equal(3)))\n",
    "print(\"Numbers divisible by 2:\", where(data, divisible_by(2)))"
   ]
  },
  {
   "cell_type": "markdown",
   "metadata": {},
   "source": [
    "*Exercise 7:* Repeat the previous exercise using `lambda` and the built-in python functions sum and map instead of your solution above. "
   ]
  },
  {
   "cell_type": "code",
   "execution_count": 65,
   "metadata": {},
   "outputs": [
    {
     "name": "stdout",
     "output_type": "stream",
     "text": [
      "Even numbers count: 6\n",
      "Odd numbers: 5\n",
      "Numbers greater than 4: 6\n",
      "Numbers less than 4: 4\n",
      "Numbers equal to 3: 1\n",
      "Numbers divisible by 2: 6\n"
     ]
    }
   ],
   "source": [
    "### BEGIN SOLUTION\n",
    "data=data = [0, 1, 2, 3, 4, 5, 6, 7, 8, 9, 10]\n",
    "\n",
    "\n",
    "even_tes=sum(map(lambda x: x % 2 == 0, data)) #testing even\n",
    "print(f\"Even numbers count: {even_tes}\")\n",
    "\n",
    "odd_tes=sum(map(lambda x: x % 2 != 0, data)) #testing odd\n",
    "print(f\"Odd numbers: {odd_tes}\")\n",
    "\n",
    "greater_than_4=sum(map(lambda x: x > 4, data)) #testing greater than\n",
    "print(f\"Numbers greater than 4: {greater_than_4}\")\n",
    "\n",
    "less_than_4=sum(map(lambda x: x < 4, data)) #testing less than\n",
    "print(f\"Numbers less than 4: {less_than_4}\")\n",
    "\n",
    "equal_3=sum(map(lambda x: x == 3, data)) #testing equal\n",
    "print(f\"Numbers equal to 3: {equal_3}\")\n",
    "\n",
    "divisible_by_2=sum(map(lambda x: x % 2 == 0, data)) #testing divible by\n",
    "print(f\"Numbers divisible by 2: {divisible_by_2}\")\n",
    "           \n",
    "\n",
    "\n",
    "### END SOLUTION"
   ]
  },
  {
   "cell_type": "markdown",
   "metadata": {},
   "source": [
    "## Monte Carlo\n",
    "\n",
    "*Exercise 7:* Write a \"generator\" function called `generate_function(func,x_min,x_max,N)`, that instead of generating a flat distribution, generates a distribution with functional form coded in `func`. Note that `func` will always be > 0.  \n",
    "\n",
    "Use the test function below and your histogramming functions above to demonstrate that your generator is working properly.\n",
    "\n",
    "Hint: A simple, but slow, solution is to a draw random number `test_x` within the specified range and another number `p` between the `min` and `max` of the function (which you will have to determine). If `p<=function(test_x)`, then place `test_x` on the output. If not, repeat the process, drawing two new numbers. Repeat until you have the specified number of generated numbers, `N`. For this problem, it's OK to determine the `min` and `max` by numerically sampling the function.  "
   ]
  },
  {
   "cell_type": "code",
   "execution_count": 66,
   "metadata": {},
   "outputs": [],
   "source": [
    "def generate_function(func,x_min,x_max,N=1000):\n",
    "    out = list()\n",
    "    ### BEGIN SOLUTION\n",
    "\n",
    "    min_val=float('inf')\n",
    "    max_val=float('-inf')\n",
    "    for _ in range(10000):\n",
    "        test_x=random.uniform(x_min, x_max)\n",
    "        test_y=func(test_x)\n",
    "        min_val=min(min_val, test_y)\n",
    "        max_val=max(max_val, test_y)\n",
    "\n",
    "    while len(out)<N:\n",
    "        test_x=random.uniform(x_min, x_max)\n",
    "        p=random.uniform(min_val, max_val)\n",
    "\n",
    "        if p<=func(test_x):\n",
    "            out.append(test_x)\n",
    "\n",
    "    ### END SOLUTION\n",
    "    \n",
    "    return out\n",
    "\n"
   ]
  },
  {
   "cell_type": "code",
   "execution_count": 67,
   "metadata": {},
   "outputs": [
    {
     "name": "stdout",
     "output_type": "stream",
     "text": [
      "Bin 1: 293 occurrences\n",
      "Bin 2: 300 occurrences\n",
      "Bin 3: 240 occurrences\n",
      "Bin 4: 262 occurrences\n",
      "Bin 5: 234 occurrences\n",
      "Bin 6: 237 occurrences\n",
      "Bin 7: 205 occurrences\n",
      "Bin 8: 171 occurrences\n",
      "Bin 9: 185 occurrences\n",
      "Bin 10: 174 occurrences\n",
      "Bin 11: 125 occurrences\n",
      "Bin 12: 138 occurrences\n",
      "Bin 13: 119 occurrences\n",
      "Bin 14: 103 occurrences\n",
      "Bin 15: 76 occurrences\n",
      "Bin 16: 73 occurrences\n",
      "Bin 17: 69 occurrences\n",
      "Bin 18: 28 occurrences\n",
      "Bin 19: 27 occurrences\n",
      "Bin 20: 6 occurrences\n",
      "Bin 21: 7 occurrences\n",
      "Bin 22: 21 occurrences\n",
      "Bin 23: 39 occurrences\n",
      "Bin 24: 46 occurrences\n",
      "Bin 25: 88 occurrences\n",
      "Bin 26: 101 occurrences\n",
      "Bin 27: 103 occurrences\n",
      "Bin 28: 128 occurrences\n",
      "Bin 29: 129 occurrences\n",
      "Bin 30: 119 occurrences\n",
      "Bin 31: 162 occurrences\n",
      "Bin 32: 173 occurrences\n",
      "Bin 33: 212 occurrences\n",
      "Bin 34: 192 occurrences\n",
      "Bin 35: 235 occurrences\n",
      "Bin 36: 254 occurrences\n",
      "Bin 37: 277 occurrences\n",
      "Bin 38: 254 occurrences\n",
      "Bin 39: 267 occurrences\n",
      "Bin 40: 302 occurrences\n",
      "Bin 41: 309 occurrences\n",
      "Bin 42: 312 occurrences\n",
      "Bin 43: 303 occurrences\n",
      "Bin 44: 336 occurrences\n",
      "Bin 45: 377 occurrences\n",
      "Bin 46: 412 occurrences\n",
      "Bin 47: 394 occurrences\n",
      "Bin 48: 411 occurrences\n",
      "Bin 49: 467 occurrences\n",
      "Bin 50: 505 occurrences\n"
     ]
    }
   ],
   "source": [
    "# A test function\n",
    "def test_func(x,a=1,b=1):\n",
    "    return abs(a*x+b)\n",
    "    \n",
    "generated_data=generate_function(test_func, -5, 5, N=10000)\n",
    "\n",
    "hist, bin_edges=histogram(generated_data, n_bins=50)\n",
    "\n",
    "for i in range(len(hist)):\n",
    "    print(f\"Bin {i + 1}: {hist[i]} occurrences\")"
   ]
  },
  {
   "cell_type": "markdown",
   "metadata": {},
   "source": [
    "*Exercise 8:* Use your function to generate 1000 numbers that are normal distributed, using the `gaussian` function below. Confirm the mean and variance of the data is close to the mean and variance you specify when building the Gaussian. Histogram the data. "
   ]
  },
  {
   "cell_type": "code",
   "execution_count": 68,
   "metadata": {},
   "outputs": [
    {
     "name": "stdout",
     "output_type": "stream",
     "text": [
      "Mean of Generated Data: 0.03510054652521517\n",
      "Variance of Generated Data: 0.9394276455092394\n",
      "Bin 1: 2 occurrences\n",
      "Bin 2: 2 occurrences\n",
      "Bin 3: 2 occurrences\n",
      "Bin 4: 16 occurrences\n",
      "Bin 5: 27 occurrences\n",
      "Bin 6: 37 occurrences\n",
      "Bin 7: 82 occurrences\n",
      "Bin 8: 97 occurrences\n",
      "Bin 9: 110 occurrences\n",
      "Bin 10: 123 occurrences\n",
      "Bin 11: 135 occurrences\n",
      "Bin 12: 133 occurrences\n",
      "Bin 13: 89 occurrences\n",
      "Bin 14: 61 occurrences\n",
      "Bin 15: 31 occurrences\n",
      "Bin 16: 33 occurrences\n",
      "Bin 17: 12 occurrences\n",
      "Bin 18: 4 occurrences\n",
      "Bin 19: 3 occurrences\n",
      "Bin 20: 1 occurrences\n"
     ]
    }
   ],
   "source": [
    "import math\n",
    "\n",
    "def gaussian(mean, sigma):\n",
    "    def f(x):\n",
    "        return math.exp(-((x-mean)**2)/(2*sigma**2))/math.sqrt(math.pi*sigma)\n",
    "    return f\n",
    "\n",
    "# Example Instantiation\n",
    "g1=gaussian(0,1)\n",
    "g2=gaussian(10,3)\n",
    "\n",
    "generated_data=generate_function(g1, -5, 5, N=1000)\n",
    "\n",
    "mean_generated=sum(generated_data)/len(generated_data)\n",
    "variance_generated=sum((x-mean_generated)**2 for x in generated_data)/len(generated_data)\n",
    "\n",
    "print(f\"Mean of Generated Data: {mean_generated}\")\n",
    "print(f\"Variance of Generated Data: {variance_generated}\")\n",
    "\n",
    "hist, bin_edges=histogram(generated_data, n_bins=20)\n",
    "\n",
    "for i in range(len(hist)):\n",
    "    print(f\"Bin {i + 1}: {hist[i]} occurrences\")\n"
   ]
  },
  {
   "cell_type": "markdown",
   "metadata": {},
   "source": [
    "*Exercise 9:* Combine your `generate_function`, `where`, and `in_range` functions above to create an integrate function. Use your integrate function to show that approximately 68% of Normal distribution is within one variance."
   ]
  },
  {
   "cell_type": "code",
   "execution_count": 69,
   "metadata": {},
   "outputs": [],
   "source": [
    "def where(condition, x):\n",
    "    return [val for val in x if condition(val)]\n",
    "\n",
    "def in_range(x, x_min, x_max):\n",
    "    return where(lambda val: x_min<=val<=x_max, x)\n",
    "    \n",
    "def integrate(func, x_min, x_max, n_points=1000):\n",
    "    points=generate_function(func, x_min, x_max, n_points)\n",
    "    integral=len(points)/n_points*(x_max - x_min)\n",
    "    return integral"
   ]
  },
  {
   "cell_type": "code",
   "execution_count": 70,
   "metadata": {},
   "outputs": [
    {
     "name": "stdout",
     "output_type": "stream",
     "text": [
      "~68% of Normal distribution within one variance is: 2.0\n"
     ]
    }
   ],
   "source": [
    "integral_result=integrate(g1, -1, 1)\n",
    "\n",
    "print(f\"~68% of Normal distribution within one variance is: {integral_result}\")"
   ]
  },
  {
   "cell_type": "code",
   "execution_count": null,
   "metadata": {},
   "outputs": [],
   "source": []
  },
  {
   "cell_type": "code",
   "execution_count": null,
   "metadata": {},
   "outputs": [],
   "source": []
  }
 ],
 "metadata": {
  "kernelspec": {
   "display_name": "Python 3 (ipykernel)",
   "language": "python",
   "name": "python3"
  },
  "language_info": {
   "codemirror_mode": {
    "name": "ipython",
    "version": 3
   },
   "file_extension": ".py",
   "mimetype": "text/x-python",
   "name": "python",
   "nbconvert_exporter": "python",
   "pygments_lexer": "ipython3",
   "version": "3.10.12"
  }
 },
 "nbformat": 4,
 "nbformat_minor": 4
}
