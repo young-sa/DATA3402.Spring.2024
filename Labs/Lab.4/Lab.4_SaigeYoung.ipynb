{
 "cells": [
  {
   "cell_type": "markdown",
   "metadata": {},
   "source": [
    "# Lab 4- Object Oriented Programming\n",
    "\n",
    "For all of the exercises below, make sure you provide tests of your solutions.\n"
   ]
  },
  {
   "cell_type": "markdown",
   "metadata": {},
   "source": [
    "1. Write a \"counter\" class that can be incremented up to a specified maximum value, will print an error if an attempt is made to increment beyond that value, and allows reseting the counter. "
   ]
  },
  {
   "cell_type": "code",
   "execution_count": 71,
   "metadata": {},
   "outputs": [],
   "source": [
    "class Counter:\n",
    "    def __init__(self, max_value):\n",
    "        self.max_value = max_value\n",
    "        self.value = 0\n",
    "\n",
    "    def increment(self):\n",
    "        if self.value < self.max_value:\n",
    "            self.value += 1\n",
    "        else:\n",
    "            print(\"Error: Counter has reached its maximum value.\")\n",
    "\n",
    "    def reset(self):\n",
    "        self.value = 0\n",
    "\n",
    "    def get_value(self):\n",
    "        return self.value"
   ]
  },
  {
   "cell_type": "code",
   "execution_count": 72,
   "metadata": {},
   "outputs": [
    {
     "name": "stdout",
     "output_type": "stream",
     "text": [
      "Counter value: 1\n",
      "Counter value: 2\n",
      "Counter value: 3\n",
      "Counter value: 4\n",
      "Counter value: 5\n",
      "Counter value: 6\n",
      "Counter value: 7\n",
      "Counter value: 8\n",
      "Counter value: 9\n",
      "Counter value: 10\n",
      "Error: Counter has reached its maximum value.\n",
      "Counter value: 10\n",
      "Error: Counter has reached its maximum value.\n",
      "Counter value: 10\n",
      "Error: Counter has reached its maximum value.\n",
      "Counter value: 10\n",
      "Counter value after reset: 0\n"
     ]
    }
   ],
   "source": [
    "#count with max val at 10\n",
    "counter = Counter(10)\n",
    "for _ in range(13):    #tries 7 times\n",
    "    counter.increment()\n",
    "    print(\"Counter value:\", counter.get_value())  #current val\n",
    "\n",
    "#resets to 0\n",
    "counter.reset() \n",
    "print(\"Counter value after reset:\", counter.get_value())  #val after reset"
   ]
  },
  {
   "cell_type": "markdown",
   "metadata": {},
   "source": [
    "2. Copy and paste your solution to question 1 and modify it so that all the data held by the counter is private. Implement functions to check the value of the counter, check the maximum value, and check if the counter is at the maximum."
   ]
  },
  {
   "cell_type": "code",
   "execution_count": 73,
   "metadata": {},
   "outputs": [],
   "source": [
    "class Counter:\n",
    "    def __init__(self, max_value):\n",
    "        self._max_value = max_value\n",
    "        self._value = 0\n",
    "\n",
    "    def increment(self):\n",
    "        if self._value < self._max_value:\n",
    "            self._value += 1\n",
    "        else:\n",
    "            print(\"Error: Counter has reached its maximum value.\")\n",
    "\n",
    "    def reset(self):\n",
    "        self._value = 0\n",
    "\n",
    "    def get_value(self):\n",
    "        return self._value\n",
    "\n",
    "    def get_max_value(self):\n",
    "        return self._max_value\n",
    "\n",
    "    def is_at_max(self):\n",
    "        return self._value == self._max_value"
   ]
  },
  {
   "cell_type": "code",
   "execution_count": 74,
   "metadata": {},
   "outputs": [
    {
     "name": "stdout",
     "output_type": "stream",
     "text": [
      "Counter value: 1\n",
      "Counter value: 2\n",
      "Counter value: 3\n",
      "Counter value: 4\n",
      "Counter value: 5\n",
      "Counter value: 6\n",
      "Counter value: 7\n",
      "Counter value: 8\n",
      "Counter value: 9\n",
      "Counter value: 10\n",
      "Error: Counter has reached its maximum value.\n",
      "Counter value: 10\n",
      "Error: Counter has reached its maximum value.\n",
      "Counter value: 10\n",
      "Error: Counter has reached its maximum value.\n",
      "Counter value: 10\n",
      "Counter is at max: True\n",
      "Counter value after reset: 0\n",
      "Maximum value of the counter: 10\n"
     ]
    }
   ],
   "source": [
    "#count with max val at 10\n",
    "counter = Counter(10)\n",
    "for _ in range(13):    #tries 7 times\n",
    "    counter.increment()\n",
    "    print(\"Counter value:\", counter.get_value())  #current val\n",
    "\n",
    "print(\"Counter is at max:\", counter.is_at_max())  #check if at max\n",
    "\n",
    "#resets to 0\n",
    "counter.reset() \n",
    "print(\"Counter value after reset:\", counter.get_value())  #val after reset\n",
    "print(\"Maximum value of the counter:\", counter.get_max_value())  #max val "
   ]
  },
  {
   "cell_type": "markdown",
   "metadata": {},
   "source": [
    "3. Implement a class to represent a rectangle, holding the length, width, and $x$ and $y$ coordinates of a corner of the object. Implement functions that compute the area and perimeter of the rectangle. Make all data members private and privide accessors to retrieve values of data members. "
   ]
  },
  {
   "cell_type": "code",
   "execution_count": 75,
   "metadata": {},
   "outputs": [],
   "source": [
    "class Rectangle:\n",
    "    def __init__(self, length, width, x_coord, y_coord):\n",
    "        self._length = length\n",
    "        self._width = width\n",
    "        self._x_coord = x_coord\n",
    "        self._y_coord = y_coord\n",
    "\n",
    "    def area(self):\n",
    "        return self._length * self._width\n",
    "\n",
    "    def perimeter(self):\n",
    "        return 2 * (self._length + self._width)\n",
    "\n",
    "    def get_length(self):\n",
    "        return self._length\n",
    "\n",
    "    def get_width(self):\n",
    "        return self._width\n",
    "\n",
    "    def get_x_coord(self):\n",
    "        return self._x_coord\n",
    "\n",
    "    def get_y_coord(self):\n",
    "        return self._y_coord"
   ]
  },
  {
   "cell_type": "code",
   "execution_count": 76,
   "metadata": {},
   "outputs": [
    {
     "name": "stdout",
     "output_type": "stream",
     "text": [
      "Area of the rectangle: 195\n",
      "Perimeter of the rectangle: 56\n",
      "Length of the rectangle: 15\n",
      "Width of the rectangle: 13\n",
      "X coordinate of the rectangle's corner: 2\n",
      "Y coordinate of the rectangle's corner: 4\n"
     ]
    }
   ],
   "source": [
    "#the rectangle\n",
    "rectangle = Rectangle(15, 13, 2, 4) \n",
    "print(f\"Area of the rectangle: {rectangle.area()}\")  #shows area\n",
    "print(f\"Perimeter of the rectangle: {rectangle.perimeter()}\")  #shows perimeter\n",
    "print(f\"Length of the rectangle: {rectangle.get_length()}\")  #shows length\n",
    "print(f\"Width of the rectangle: {rectangle.get_width()}\")  #shows width\n",
    "print(f\"X coordinate of the rectangle's corner: {rectangle.get_x_coord()}\")  #shows X coordinate\n",
    "print(f\"Y coordinate of the rectangle's corner: {rectangle.get_y_coord()}\")  #shows Y coordinate"
   ]
  },
  {
   "cell_type": "markdown",
   "metadata": {},
   "source": [
    "4. Implement a class to represent a circle, holding the radius and $x$ and $y$ coordinates of center of the object. Implement functions that compute the area and perimeter of the rectangle. Make all data members private and privide accessors to retrieve values of data members. "
   ]
  },
  {
   "cell_type": "code",
   "execution_count": 77,
   "metadata": {},
   "outputs": [],
   "source": [
    "class Circle:\n",
    "    def __init__(self, radius, x_center, y_center):\n",
    "        self._radius = radius\n",
    "        self._x_center = x_center\n",
    "        self._y_center = y_center\n",
    "        self._pi = 3.141592653589793  #defining pi\n",
    "\n",
    "    def area(self):\n",
    "        return self._pi * self._radius ** 2\n",
    "\n",
    "    def circumference(self):\n",
    "        return 2 * self._pi * self._radius\n",
    "\n",
    "    def get_radius(self):\n",
    "        return self._radius\n",
    "\n",
    "    def get_center(self):\n",
    "        return (self._x_center, self._y_center)"
   ]
  },
  {
   "cell_type": "code",
   "execution_count": 78,
   "metadata": {},
   "outputs": [
    {
     "name": "stdout",
     "output_type": "stream",
     "text": [
      "Area of the circle: 50.26548245743669\n",
      "Circumference of the circle: 25.132741228718345\n",
      "Radius of the circle: 4\n",
      "Center of the circle: (1, 0)\n"
     ]
    }
   ],
   "source": [
    "#the circle\n",
    "circle = Circle(4, 1, 0) \n",
    "print(f\"Area of the circle: {circle.area()}\")  #shows area\n",
    "print(f\"Circumference of the circle: {circle.circumference()}\")  #shows circumference\n",
    "radius = circle.get_radius()  #shows radius\n",
    "x_center, y_center = circle.get_center()  #shows center coordinates\n",
    "print(f\"Radius of the circle: {radius}\")\n",
    "print(f\"Center of the circle: ({x_center}, {y_center})\")"
   ]
  },
  {
   "cell_type": "markdown",
   "metadata": {},
   "source": [
    "5. Implement a common base class for the classes implemented in 3 and 4 above which implements all common methods as not implemented functions (virtual). Re-implement those classes to inherit from the base class and overload the functions accordingly. "
   ]
  },
  {
   "cell_type": "code",
   "execution_count": 79,
   "metadata": {},
   "outputs": [],
   "source": [
    "class Shape:\n",
    "    def area(self):\n",
    "        raise NotImplementedError\n",
    "\n",
    "    def perimeter(self):\n",
    "        raise NotImplementedError\n",
    "\n",
    "    def get_dimensions(self):\n",
    "        raise NotImplementedError\n",
    "\n",
    "    def get_position(self):\n",
    "        raise NotImplementedError"
   ]
  },
  {
   "cell_type": "code",
   "execution_count": 80,
   "metadata": {},
   "outputs": [],
   "source": [
    "class Rectangle(Shape):\n",
    "    def __init__(self, length, width, x_coord, y_coord):\n",
    "        self._length = length\n",
    "        self._width = width\n",
    "        self._x_coord = x_coord\n",
    "        self._y_coord = y_coord\n",
    "\n",
    "    def area(self):\n",
    "        return self._length * self._width\n",
    "\n",
    "    def perimeter(self):\n",
    "        return 2 * (self._length + self._width)\n",
    "\n",
    "    def get_dimensions(self):\n",
    "        return self._length, self._width\n",
    "\n",
    "    def get_position(self):\n",
    "        return self._x_coord, self._y_coord"
   ]
  },
  {
   "cell_type": "code",
   "execution_count": 81,
   "metadata": {},
   "outputs": [],
   "source": [
    "class Circle(Shape):\n",
    "    def __init__(self, radius, x_center, y_center):\n",
    "        self._radius = radius\n",
    "        self._x_center = x_center\n",
    "        self._y_center = y_center\n",
    "        self._pi = 3.141592653589793\n",
    "\n",
    "    def area(self):\n",
    "        return self._pi * self._radius ** 2\n",
    "\n",
    "    def perimeter(self):\n",
    "        #for a circle, perimeter = circumference\n",
    "        return 2 * self._pi * self._radius\n",
    "\n",
    "    def get_dimensions(self):\n",
    "        return (self._radius,)\n",
    "\n",
    "    def get_position(self):\n",
    "        return self._x_center, self._y_center"
   ]
  },
  {
   "cell_type": "code",
   "execution_count": 82,
   "metadata": {},
   "outputs": [
    {
     "name": "stdout",
     "output_type": "stream",
     "text": [
      "Area of the rectangle: 195\n",
      "Perimeter of the rectangle: 56\n",
      "Dimensions of the rectangle: (15, 13)\n",
      "Area of the circle: 50.26548245743669\n",
      "Circumference of the circle: 25.132741228718345\n",
      "Radius of the circle: 4\n",
      "Center of the circle: (1, 0)\n"
     ]
    }
   ],
   "source": [
    "#the rectangle\n",
    "rectangle = Rectangle(15, 13, 2, 4) \n",
    "print(f\"Area of the rectangle: {rectangle.area()}\")  \n",
    "print(f\"Perimeter of the rectangle: {rectangle.perimeter()}\")  \n",
    "print(f\"Dimensions of the rectangle: {rectangle.get_dimensions()}\")\n",
    "\n",
    "#the circle\n",
    "circle = Circle(4, 1, 0) \n",
    "print(f\"Area of the circle: {circle.area()}\")  \n",
    "print(f\"Circumference of the circle: {circle.perimeter()}\")  \n",
    "print(f\"Radius of the circle: {radius}\")\n",
    "print(f\"Center of the circle: ({x_center}, {y_center})\")"
   ]
  },
  {
   "cell_type": "markdown",
   "metadata": {},
   "source": [
    "6. Implement an analogous triangle class."
   ]
  },
  {
   "cell_type": "code",
   "execution_count": 83,
   "metadata": {},
   "outputs": [],
   "source": [
    "class triangle(Shape):\n",
    "    def __init__(self, a, b, c, x_coord, y_coord):\n",
    "        self._a = a\n",
    "        self._b = b\n",
    "        self._c = c\n",
    "        self._x_coord = x_coord\n",
    "        self._y_coord = y_coord\n",
    "\n",
    "    def area(self):\n",
    "        s = (self._a + self._b + self._c) / 2\n",
    "        area = (s * (s - self._a) * (s - self._b) * (s - self._c)) ** 0.5\n",
    "        return area\n",
    "\n",
    "    def perimeter(self):\n",
    "        return self._a + self._b + self._c\n",
    "\n",
    "    def get_dimensions(self):\n",
    "        return self._a, self._b, self._c\n",
    "\n",
    "    def get_position(self):\n",
    "        return self._x_coord, self._y_coord"
   ]
  },
  {
   "cell_type": "code",
   "execution_count": 84,
   "metadata": {},
   "outputs": [
    {
     "name": "stdout",
     "output_type": "stream",
     "text": [
      "Area of the triangle: (8.779156712398807e-16+14.337450958939668j)\n",
      "Perimeter of the triangle: 23\n",
      "Sides of the triangle: (6, 12, 5)\n",
      "Vertex position of the triangle: (0, 0)\n"
     ]
    }
   ],
   "source": [
    "triangle = triangle(6, 12, 5, 0, 0)\n",
    "print(f\"Area of the triangle: {triangle.area()}\")  \n",
    "print(f\"Perimeter of the triangle: {triangle.perimeter()}\")  \n",
    "sides = triangle.get_dimensions()  \n",
    "position = triangle.get_position()  \n",
    "print(f\"Sides of the triangle: {sides}\")\n",
    "print(f\"Vertex position of the triangle: {position}\")"
   ]
  },
  {
   "cell_type": "markdown",
   "metadata": {},
   "source": [
    "7. Add a function to the object classes that tests if a given set of $x$ and $y$ coordinates are inside of the object."
   ]
  },
  {
   "cell_type": "code",
   "execution_count": 85,
   "metadata": {},
   "outputs": [],
   "source": [
    "class Rectangle(Shape):\n",
    "    def __init__(self, length, width, x_coord, y_coord):\n",
    "        self._length = length\n",
    "        self._width = width\n",
    "        self._x_coord = x_coord\n",
    "        self._y_coord = y_coord\n",
    "\n",
    "    def area(self):\n",
    "        return self._length * self._width\n",
    "\n",
    "    def perimeter(self):\n",
    "        return 2 * (self._length + self._width)\n",
    "\n",
    "    def get_dimensions(self):\n",
    "        return self._length, self._width\n",
    "\n",
    "    def get_position(self):\n",
    "        return self._x_coord, self._y_coord\n",
    "\n",
    "    def contains_point(self, x, y):\n",
    "        return (self._x_coord <= x <= self._x_coord + self._length and\n",
    "                self._y_coord <= y <= self._y_coord + self._width)\n",
    "\n",
    "\n",
    "\n",
    "class Circle(Shape):\n",
    "    def __init__(self, radius, x_center, y_center):\n",
    "        self._radius = radius\n",
    "        self._x_center = x_center\n",
    "        self._y_center = y_center\n",
    "        self._pi = 3.141592653589793\n",
    "\n",
    "    def area(self):\n",
    "        return self._pi * self._radius ** 2\n",
    "\n",
    "    def perimeter(self):\n",
    "        #for a circle, perimeter = circumference\n",
    "        return 2 * self._pi * self._radius\n",
    "\n",
    "    def get_dimensions(self):\n",
    "        return (self._radius,)\n",
    "\n",
    "    def get_position(self):\n",
    "        return self._x_center, self._y_center\n",
    "\n",
    "    def contains_point(self, x, y):\n",
    "        return (x - self._x_center)**2 + (y - self._y_center)**2 <= self._radius**2"
   ]
  },
  {
   "cell_type": "code",
   "execution_count": 86,
   "metadata": {},
   "outputs": [
    {
     "name": "stdout",
     "output_type": "stream",
     "text": [
      "True\n",
      "True\n"
     ]
    }
   ],
   "source": [
    "rect = Rectangle(10, 5, 0, 0)\n",
    "print(rect.contains_point(5, 2))  #true/false\n",
    "\n",
    "circle = Circle(5, 0, 0)\n",
    "print(circle.contains_point(3, 3))  #true/false"
   ]
  },
  {
   "cell_type": "markdown",
   "metadata": {},
   "source": [
    "8. Add a function to the object classes that return a list of up to 16 pairs of  $x$ and $y$ points on the parameter of the object.\n",
    "\n"
   ]
  },
  {
   "cell_type": "code",
   "execution_count": 87,
   "metadata": {},
   "outputs": [],
   "source": [
    "class Rectangle(Shape):\n",
    "    def __init__(self, length, width, x_coord, y_coord):\n",
    "        self._length = length\n",
    "        self._width = width\n",
    "        self._x_coord = x_coord\n",
    "        self._y_coord = y_coord\n",
    "\n",
    "    def points_on_perimeter(self):\n",
    "        \"\"\" Return up to 16 points on the perimeter of the rectangle. \"\"\"\n",
    "        num_points = 16\n",
    "        points = []\n",
    "        #used to calculate points along each edge based on the number of required points\n",
    "        perimeter = 2 * (self._length + self._width)\n",
    "        step = perimeter / num_points\n",
    "        current_length = 0\n",
    "\n",
    "        #adds points along a segment\n",
    "        def add_points(x_start, y_start, x_end, y_end, distance):\n",
    "            dx = x_end - x_start\n",
    "            dy = y_end - y_start\n",
    "            segment_length = (dx ** 2 + dy ** 2) ** 0.5\n",
    "            steps = int(segment_length // distance)\n",
    "            for i in range(steps):\n",
    "                x = x_start + (dx * distance * i / segment_length)\n",
    "                y = y_start + (dy * distance * i / segment_length)\n",
    "                points.append((x, y))\n",
    "\n",
    "        #adds points along edge: top, right, bottom, left\n",
    "        add_points(self._x_coord, self._y_coord, self._x_coord + self._length, self._y_coord, step)\n",
    "        add_points(self._x_coord + self._length, self._y_coord, self._x_coord + self._length, self._y_coord + self._width, step)\n",
    "        add_points(self._x_coord + self._length, self._y_coord + self._width, self._x_coord, self._y_coord + self._width, step)\n",
    "        add_points(self._x_coord, self._y_coord + self._width, self._x_coord, self._y_coord, step)\n",
    "\n",
    "        return points[:16]  #limit of 16\n",
    "\n",
    "class Circle(Shape):\n",
    "    def __init__(self, radius, x_center, y_center):\n",
    "        self._radius = radius\n",
    "        self._x_center = x_center\n",
    "        self._y_center = y_center\n",
    "\n",
    "    def points_on_perimeter(self):\n",
    "        \"\"\" Return up to 16 points on the perimeter of the circle. \"\"\"\n",
    "        import math\n",
    "        points = []\n",
    "        for i in range(16):\n",
    "            angle = 2 * math.pi * i / 16\n",
    "            x = self._x_center + self._radius * math.cos(angle)\n",
    "            y = self._y_center + self._radius * math.sin(angle)\n",
    "            points.append((x, y))\n",
    "        return points"
   ]
  },
  {
   "cell_type": "code",
   "execution_count": 88,
   "metadata": {},
   "outputs": [
    {
     "name": "stdout",
     "output_type": "stream",
     "text": [
      "Rectangle Perimeter Points: [(0.0, 0.0), (1.875, 0.0), (3.75, 0.0), (5.625, 0.0), (7.5, 0.0), (10.0, 0.0), (10.0, 1.875), (10.0, 5.0), (8.125, 5.0), (6.25, 5.0), (4.375, 5.0), (2.5, 5.0), (0.0, 5.0), (0.0, 3.125)]\n",
      "Circle Perimeter Points: [(5.0, 0.0), (4.619397662556434, 1.913417161825449), (3.5355339059327378, 3.5355339059327373), (1.9134171618254492, 4.619397662556434), (3.061616997868383e-16, 5.0), (-1.9134171618254485, 4.619397662556434), (-3.5355339059327373, 3.5355339059327378), (-4.619397662556434, 1.9134171618254494), (-5.0, 6.123233995736766e-16), (-4.619397662556434, -1.9134171618254483), (-3.5355339059327386, -3.5355339059327373), (-1.9134171618254516, -4.619397662556432), (-9.184850993605148e-16, -5.0), (1.91341716182545, -4.619397662556433), (3.535533905932737, -3.5355339059327386), (4.619397662556432, -1.913417161825452)]\n"
     ]
    }
   ],
   "source": [
    "rectangle = Rectangle(10, 5, 0, 0)\n",
    "circle = Circle(5, 0, 0)\n",
    "\n",
    "print(\"Rectangle Perimeter Points:\", rectangle.points_on_perimeter())\n",
    "print(\"Circle Perimeter Points:\", circle.points_on_perimeter())"
   ]
  },
  {
   "cell_type": "markdown",
   "metadata": {},
   "source": [
    "9. Add a function in the base class of the object classes that returns true/false testing that the object overlaps with another object."
   ]
  },
  {
   "cell_type": "code",
   "execution_count": 89,
   "metadata": {},
   "outputs": [],
   "source": [
    "class Shape:\n",
    "    def overlaps(self, other):\n",
    "        raise NotImplementedError\n",
    "\n",
    "class Rectangle(Shape):\n",
    "    def __init__(self, length, width, x_coord, y_coord):\n",
    "        self._length = length\n",
    "        self._width = width\n",
    "        self._x_coord = x_coord\n",
    "        self._y_coord = y_coord\n",
    "\n",
    "    def overlaps(self, other):\n",
    "        if isinstance(other, Rectangle):\n",
    "            return not (self._x_coord + self._length < other._x_coord or\n",
    "                        self._x_coord > other._x_coord + other._length or\n",
    "                        self._y_coord + self._width < other._y_coord or\n",
    "                        self._y_coord > other._y_coord + other._width)\n",
    "        elif isinstance(other, Circle):\n",
    "            return other.overlaps(self)\n",
    "        return False\n",
    "\n",
    "class Circle(Shape):\n",
    "    def __init__(self, radius, x_center, y_center):\n",
    "        self._radius = radius\n",
    "        self._x_center = x_center\n",
    "        self._y_center = y_center\n",
    "\n",
    "    def overlaps(self, other):\n",
    "        if isinstance(other, Circle):\n",
    "            dx = self._x_center - other._x_center\n",
    "            dy = self._y_center - other._y_center\n",
    "            distance = (dx ** 2 + dy ** 2) ** 0.5\n",
    "            return distance < (self._radius + other._radius)\n",
    "        elif isinstance(other, Rectangle):\n",
    "            #check circle n rectangle overlap\n",
    "            closest_x = max(other._x_coord, min(self._x_center, other._x_coord + other._length))\n",
    "            closest_y = max(other._y_coord, min(self._y_center, other._y_coord + other._width))\n",
    "            dx = closest_x - self._x_center\n",
    "            dy = closest_y - self._y_center\n",
    "            return dx**2 + dy**2 < self._radius**2\n",
    "        return False  "
   ]
  },
  {
   "cell_type": "code",
   "execution_count": 90,
   "metadata": {},
   "outputs": [
    {
     "name": "stdout",
     "output_type": "stream",
     "text": [
      "Rectangle 1 overlaps Rectangle 2: True\n",
      "Circle 1 overlaps Circle 2: True\n",
      "Rectangle 1 overlaps Circle 2: False\n",
      "Circle 1 overlaps Rectangle 1: False\n"
     ]
    }
   ],
   "source": [
    "rect1 = Rectangle(10, 5, 0, 0)\n",
    "rect2 = Rectangle(5, 5, 5, 5)\n",
    "circle1 = Circle(5, 15, 15)\n",
    "circle2 = Circle(3, 10, 10)\n",
    "\n",
    "print(\"Rectangle 1 overlaps Rectangle 2:\", rect1.overlaps(rect2))\n",
    "print(\"Circle 1 overlaps Circle 2:\", circle1.overlaps(circle2))\n",
    "print(\"Rectangle 1 overlaps Circle 2:\", rect1.overlaps(circle2))\n",
    "print(\"Circle 1 overlaps Rectangle 1:\", circle1.overlaps(rect1))"
   ]
  },
  {
   "cell_type": "markdown",
   "metadata": {},
   "source": [
    "10. Copy the `Canvas` class from lecture to in a python file creating a `paint` module. Copy your classes from above into the module and implement paint functions. Implement a `CompoundShape` class. Create a simple drawing demonstrating that all of your classes are working."
   ]
  },
  {
   "cell_type": "code",
   "execution_count": 91,
   "metadata": {},
   "outputs": [],
   "source": [
    "class Canvas: \n",
    "    def __init__(self, width, height):\n",
    "        self.width = width\n",
    "        self.height = height\n",
    "        self.data = [[' '] * width for i in range(height)]\n",
    "\n",
    "    def set_pixel(self, row, col, char='*'):\n",
    "        self.data[row][col] = char\n",
    "\n",
    "    def get_pixel(self, row, col):\n",
    "        return self.data[row][col]\n",
    "    \n",
    "    def clear_canvas(self):\n",
    "        self.data = [[' '] * self.width for i in range(self.height)]\n",
    "    \n",
    "    def v_line(self, x, y, w, **kargs):\n",
    "        for i in range(x,x+w):\n",
    "            self.set_pixel(i,y, **kargs)\n",
    "\n",
    "    def h_line(self, x, y, h, **kargs):\n",
    "        for i in range(y,y+h):\n",
    "            self.set_pixel(x,i, **kargs)\n",
    "            \n",
    "    def line(self, x1, y1, x2, y2, **kargs):\n",
    "        slope = (y2-y1) / (x2-x1)\n",
    "        for y in range(y1,y2):\n",
    "            x= int(slope * y)\n",
    "            self.set_pixel(x,y, **kargs)\n",
    "            \n",
    "    def display(self):\n",
    "        print(\"\\n\".join([\"\".join(row) for row in self.data]))\n",
    "\n",
    "\n",
    "class Shape:\n",
    "    def draw(self, canvas):\n",
    "        raise NotImplementedError(\"This method should be overridden by subclasses\")\n",
    "\n",
    "\n",
    "class Rectangle(Shape):\n",
    "    def __init__(self, x, y, width, height):\n",
    "        self.x = x\n",
    "        self.y = y\n",
    "        self.width = width\n",
    "        self.height = height\n",
    "\n",
    "    def draw(self, canvas):\n",
    "        # Draw rectangle by horizontal and vertical lines\n",
    "        canvas.h_line(self.x, self.y, self.width)\n",
    "        canvas.h_line(self.x, self.y + self.height, self.width)\n",
    "        canvas.v_line(self.x, self.y, self.height)\n",
    "        canvas.v_line(self.x + self.width, self.y, self.height)\n",
    "\n",
    "\n",
    "class Circle(Shape):\n",
    "    def __init__(self, x_center, y_center, radius):\n",
    "        self.x_center = x_center\n",
    "        self.y_center = y_center\n",
    "        self.radius = radius\n",
    "\n",
    "    def draw(self, canvas):\n",
    "        import math\n",
    "        for degree in range(360):\n",
    "            radian = math.radians(degree)\n",
    "            x = int(self.x_center + self.radius * math.cos(radian))\n",
    "            y = int(self.y_center + self.radius * math.sin(radian))\n",
    "            canvas.set_pixel(x, y)\n",
    "\n",
    "\n",
    "class CompoundShape(Shape):\n",
    "    def __init__(self):\n",
    "        self.shapes = []\n",
    "\n",
    "    def add_shape(self, shape):\n",
    "        self.shapes.append(shape)\n",
    "\n",
    "    def draw(self, canvas):\n",
    "        for shape in self.shapes:\n",
    "            shape.draw(canvas)"
   ]
  },
  {
   "cell_type": "code",
   "execution_count": 92,
   "metadata": {},
   "outputs": [
    {
     "name": "stdout",
     "output_type": "stream",
     "text": [
      "                              \n",
      "                              \n",
      "                              \n",
      "                              \n",
      "                              \n",
      "     ***************          \n",
      "     *                        \n",
      "     *                        \n",
      "     *                        \n",
      "     *                        \n",
      "                              \n",
      "                              \n",
      "       ******                 \n",
      "       *    *                 \n",
      "       *    *                 \n",
      "     * *    **                \n",
      "     * *    *                 \n",
      "     * ******                 \n",
      "     *    *                   \n",
      "     *                        \n"
     ]
    }
   ],
   "source": [
    "def main():\n",
    "    canvas = Canvas(30, 20)\n",
    "    rect = Rectangle(5, 5, 10, 5)\n",
    "    circle = Circle(15, 10, 3)\n",
    "    compound = CompoundShape()\n",
    "    compound.add_shape(rect)\n",
    "    compound.add_shape(circle)\n",
    "\n",
    "    compound.draw(canvas)\n",
    "    canvas.display()\n",
    "\n",
    "if __name__ == \"__main__\":\n",
    "    main()"
   ]
  },
  {
   "cell_type": "markdown",
   "metadata": {},
   "source": [
    "11. Create a `RasterDrawing` class. Demonstrate that you can create a drawing made of several shapes, paint the drawing, modify the drawing, and paint it again. "
   ]
  },
  {
   "cell_type": "code",
   "execution_count": 93,
   "metadata": {},
   "outputs": [
    {
     "name": "stdout",
     "output_type": "stream",
     "text": [
      "Initial Drawing:\n",
      "                                        \n",
      "                                        \n",
      "                                        \n",
      "                                        \n",
      "                                        \n",
      "     ***********                        \n",
      "     *         *                        \n",
      "     *         *                        \n",
      "     *         *                        \n",
      "     *         *                        \n",
      "     ***********                        \n",
      "                                        \n",
      "                                        \n",
      "                                        \n",
      "                                        \n",
      "                                        \n",
      "                                        \n",
      "            ******                      \n",
      "            *    *                      \n",
      "            *    *                      \n",
      "            *    **                     \n",
      "            *    *                      \n",
      "            ******                      \n",
      "               *                        \n",
      "                                        \n",
      "                                        \n",
      "                                        \n",
      "                                        \n",
      "                                        \n",
      "                                        \n",
      "\n",
      "Modified Drawing:\n",
      "                                        \n",
      "                                        \n",
      "                                        \n",
      "                                        \n",
      "                                        \n",
      "     ***********                        \n",
      "     *         *                        \n",
      "     *         *                        \n",
      "     *         *                        \n",
      "     *         *                        \n",
      "     ***********                        \n",
      "                                        \n",
      "                                        \n",
      "                                        \n",
      "                                        \n",
      "               ***********              \n",
      "               *         *              \n",
      "               *         *              \n",
      "               *         *              \n",
      "               *         *              \n",
      "               ***********              \n",
      "                                        \n",
      "                                        \n",
      "                                        \n",
      "                                        \n",
      "                                        \n",
      "                                        \n",
      "                                        \n",
      "                                        \n",
      "                                        \n"
     ]
    }
   ],
   "source": [
    "class Canvas: \n",
    "    def __init__(self, width, height):\n",
    "        self.width = width\n",
    "        self.height = height\n",
    "        self.data = [[' '] * width for i in range(height)]\n",
    "\n",
    "    def set_pixel(self, row, col, char='*'):\n",
    "        self.data[row][col] = char\n",
    "\n",
    "    def get_pixel(self, row, col):\n",
    "        return self.data[row][col]\n",
    "    \n",
    "    def clear_canvas(self):\n",
    "        self.data = [[' '] * self.width for i in range(self.height)]\n",
    "    \n",
    "    def v_line(self, x, y, w, **kargs):\n",
    "        for i in range(x,x+w):\n",
    "            self.set_pixel(i,y, **kargs)\n",
    "\n",
    "    def h_line(self, x, y, h, **kargs):\n",
    "        for i in range(y,y+h):\n",
    "            self.set_pixel(x,i, **kargs)\n",
    "            \n",
    "    def line(self, x1, y1, x2, y2, **kargs):\n",
    "        slope = (y2-y1) / (x2-x1)\n",
    "        for y in range(y1,y2):\n",
    "            x= int(slope * y)\n",
    "            self.set_pixel(x,y, **kargs)\n",
    "            \n",
    "    def display(self):\n",
    "        print(\"\\n\".join([\"\".join(row) for row in self.data]))\n",
    "\n",
    "class Shape:\n",
    "    def draw(self, canvas):\n",
    "        raise NotImplementedError\n",
    "\n",
    "class Rectangle(Shape):\n",
    "    def __init__(self, x, y, width, height):\n",
    "        self.x = x\n",
    "        self.y = y\n",
    "        self.width = width\n",
    "        self.height = height\n",
    "\n",
    "    def draw(self, canvas):\n",
    "        for i in range(self.width + 1):\n",
    "            canvas.set_pixel(self.y, self.x + i)\n",
    "            canvas.set_pixel(self.y + self.height, self.x + i)\n",
    "        for i in range(self.height + 1):\n",
    "            canvas.set_pixel(self.y + i, self.x)\n",
    "            canvas.set_pixel(self.y + i, self.x + self.width)\n",
    "\n",
    "class Circle(Shape):\n",
    "    def __init__(self, x_center, y_center, radius):\n",
    "        self.x_center = x_center\n",
    "        self.y_center = y_center\n",
    "        self.radius = radius\n",
    "\n",
    "    def draw(self, canvas):\n",
    "        import math\n",
    "        for degree in range(360):\n",
    "            radian = math.radians(degree)\n",
    "            x = int(self.x_center + self.radius * math.cos(radian))\n",
    "            y = int(self.y_center + self.radius * math.sin(radian))\n",
    "            canvas.set_pixel(x, y)\n",
    "\n",
    "class RasterDrawing:\n",
    "    def __init__(self):\n",
    "        self.shapes = []\n",
    "\n",
    "    def add_shape(self, shape):\n",
    "        self.shapes.append(shape)\n",
    "\n",
    "    def remove_shape(self, shape):\n",
    "        if shape in self.shapes:\n",
    "            self.shapes.remove(shape)\n",
    "\n",
    "    def draw(self, canvas):\n",
    "        canvas.clear_canvas()\n",
    "        for shape in self.shapes:\n",
    "            shape.draw(canvas)\n",
    "\n",
    "def main():\n",
    "    canvas = Canvas(40, 30)\n",
    "    rect1 = Rectangle(5, 5, 10, 5)\n",
    "    circle1 = Circle(20, 15, 3)\n",
    "    drawing = RasterDrawing()\n",
    "    \n",
    "    #add shapes and paint\n",
    "    drawing.add_shape(rect1)\n",
    "    drawing.add_shape(circle1)\n",
    "    drawing.draw(canvas)\n",
    "    print(\"Initial Drawing:\")\n",
    "    canvas.display()\n",
    "    \n",
    "    #modifies the drawing\n",
    "    rect2 = Rectangle(15, 15, 10, 5)\n",
    "    drawing.add_shape(rect2)  #another rectangle\n",
    "    drawing.remove_shape(circle1)  #removes circle\n",
    "    drawing.draw(canvas)\n",
    "    print(\"\\nModified Drawing:\")\n",
    "    canvas.display()\n",
    "\n",
    "if __name__ == \"__main__\":\n",
    "    main()\n"
   ]
  },
  {
   "cell_type": "markdown",
   "metadata": {},
   "source": [
    "12. Implement the ability to load/save raster drawings and demonstate that your method works. One way to implement this ability:\n",
    "\n",
    "   * Overload `__repr__` functions of all objects to return strings of the python code that would construct the object.\n",
    "   \n",
    "   * In the save method of raster drawing class, store the representations into the file.\n",
    "   * Write a loader function that reads the file and uses `eval` to instantiate the object.\n",
    "\n",
    "For example:"
   ]
  },
  {
   "cell_type": "code",
   "execution_count": 94,
   "metadata": {},
   "outputs": [],
   "source": [
    "class foo:\n",
    "    def __init__(self,a,b=None):\n",
    "        self.a=a\n",
    "        self.b=b\n",
    "        \n",
    "    def __repr__(self):\n",
    "        return \"foo(\"+repr(self.a)+\",\"+repr(self.b)+\")\"\n",
    "    \n",
    "    def save(self,filename):\n",
    "        f=open(filename,\"w\")\n",
    "        f.write(self.__repr__())\n",
    "        f.close()\n",
    "        \n",
    "   \n",
    "def foo_loader(filename):\n",
    "    f=open(filename,\"r\")\n",
    "    tmp=eval(f.read())\n",
    "    f.close()\n",
    "    return tmp"
   ]
  },
  {
   "cell_type": "code",
   "execution_count": 95,
   "metadata": {},
   "outputs": [
    {
     "name": "stdout",
     "output_type": "stream",
     "text": [
      "foo(1,'hello')\n"
     ]
    }
   ],
   "source": [
    "# Test\n",
    "print(repr(foo(1,\"hello\")))"
   ]
  },
  {
   "cell_type": "code",
   "execution_count": 96,
   "metadata": {},
   "outputs": [],
   "source": [
    "# Create an object and save it\n",
    "ff=foo(1,\"hello\")\n",
    "ff.save(\"Test.foo\")"
   ]
  },
  {
   "cell_type": "code",
   "execution_count": 97,
   "metadata": {},
   "outputs": [
    {
     "name": "stdout",
     "output_type": "stream",
     "text": [
      "foo(1,'hello')"
     ]
    }
   ],
   "source": [
    "# Check contents of the saved file\n",
    "!cat Test.foo"
   ]
  },
  {
   "cell_type": "code",
   "execution_count": 98,
   "metadata": {},
   "outputs": [
    {
     "data": {
      "text/plain": [
       "foo(1,'hello')"
      ]
     },
     "execution_count": 98,
     "metadata": {},
     "output_type": "execute_result"
    }
   ],
   "source": [
    "# Load the object\n",
    "ff_reloaded=foo_loader(\"Test.foo\")\n",
    "ff_reloaded"
   ]
  },
  {
   "cell_type": "code",
   "execution_count": 99,
   "metadata": {},
   "outputs": [
    {
     "name": "stdout",
     "output_type": "stream",
     "text": [
      "Loaded Drawing Display:\n",
      "                                                            \n",
      "                                                            \n",
      "                                                            \n",
      "                                                            \n",
      "                                                            \n",
      "     ******************************                         \n",
      "     *                  **        **                        \n",
      "     *                ** *          **                      \n",
      "     *                *  *           *                      \n",
      "     *               *   *            *                     \n",
      "     *              **   *            **                    \n",
      "     *              *    *             *                    \n",
      "     *              *    *             *                    \n",
      "     *              *    *             *                    \n",
      "     *              *    *             *                    \n",
      "     ********************              **                   \n",
      "                    *                  *                    \n",
      "                    *                  *                    \n",
      "                    *                  *                    \n",
      "                    **                **                    \n",
      "                     *                *                     \n",
      "                      *              *                      \n",
      "                      **            **                      \n",
      "                        **        **                        \n",
      "                         **********                         \n",
      "                              *                             \n",
      "                                                            \n",
      "                                                            \n",
      "                                                            \n",
      "                                                            \n"
     ]
    }
   ],
   "source": [
    "class Canvas:\n",
    "    def __init__(self, width, height):\n",
    "        self.width = width\n",
    "        self.height = height\n",
    "        self.data = [[' '] * width for _ in range(height)]\n",
    "\n",
    "    def set_pixel(self, row, col, char='*'):\n",
    "        if 0 <= row < self.height and 0 <= col < self.width:\n",
    "            self.data[row][col] = char\n",
    "\n",
    "    def get_pixel(self, row, col):\n",
    "        return self.data[row][col]\n",
    "\n",
    "    def clear_canvas(self):\n",
    "        self.data = [[' '] * self.width for _ in range(self.height)]\n",
    "    \n",
    "    def v_line(self, x, y, h, char='*'):\n",
    "        for i in range(h):\n",
    "            self.set_pixel(y + i, x, char)\n",
    "    \n",
    "    def h_line(self, x, y, w, char='*'):\n",
    "        for i in range(w):\n",
    "            self.set_pixel(y, x + i, char)\n",
    "\n",
    "    def display(self):\n",
    "        print(\"\\n\".join([\"\".join(row) for row in self.data]))\n",
    "\n",
    "class Rectangle:\n",
    "    def __init__(self, x, y, width, height):\n",
    "        self.x = x\n",
    "        self.y = y\n",
    "        self.width = width\n",
    "        self.height = height\n",
    "\n",
    "    def draw(self, canvas):\n",
    "        # Using h_line and v_line to draw the rectangle\n",
    "        canvas.h_line(self.x, self.y, self.width)\n",
    "        canvas.h_line(self.x, self.y + self.height, self.width)\n",
    "        canvas.v_line(self.x, self.y, self.height)\n",
    "        canvas.v_line(self.x + self.width, self.y, self.height)\n",
    "\n",
    "    def __repr__(self):\n",
    "        return f\"Rectangle({self.x}, {self.y}, {self.width}, {self.height})\"\n",
    "\n",
    "class Circle:\n",
    "    def __init__(self, x_center, y_center, radius):\n",
    "        self.x_center = x_center\n",
    "        self.y_center = y_center\n",
    "        self.radius = radius\n",
    "\n",
    "    def draw(self, canvas):\n",
    "        import math\n",
    "        for degree in range(360):\n",
    "            radian = math.radians(degree)\n",
    "            x = int(self.x_center + self.radius * math.cos(radian))\n",
    "            y = int(self.y_center + self.radius * math.sin(radian))\n",
    "            canvas.set_pixel(y, x)\n",
    "\n",
    "    def __repr__(self):\n",
    "        return f\"Circle({self.x_center}, {self.y_center}, {self.radius})\"\n",
    "\n",
    "class RasterDrawing:\n",
    "    def __init__(self):\n",
    "        self.shapes = []\n",
    "\n",
    "    def add_shape(self, shape):\n",
    "        self.shapes.append(shape)\n",
    "\n",
    "    def draw(self, canvas):\n",
    "        canvas.clear_canvas()\n",
    "        for shape in self.shapes:\n",
    "            shape.draw(canvas)\n",
    "\n",
    "    def __repr__(self):\n",
    "        return f\"RasterDrawing()\\n\" + \"\\n\".join([f\"dr.add_shape({repr(shape)})\" for shape in self.shapes])\n",
    "\n",
    "    def save(self, filename):\n",
    "        with open(filename, \"w\") as file:\n",
    "            file.write(repr(self))\n",
    "\n",
    "def load_drawing(filename):\n",
    "    local_vars = {'Rectangle': Rectangle, 'Circle': Circle, 'RasterDrawing': RasterDrawing}\n",
    "    with open(filename, \"r\") as file:\n",
    "        content = file.read()\n",
    "    dr = RasterDrawing()\n",
    "    exec(content, local_vars, {'dr': dr})\n",
    "    return dr\n",
    "\n",
    "# Example Usage\n",
    "def main():\n",
    "    canvas = Canvas(60, 30)\n",
    "    rect = Rectangle(5, 5, 20, 10)\n",
    "    circle = Circle(30, 15, 10)\n",
    "    drawing = RasterDrawing()\n",
    "    drawing.add_shape(rect)\n",
    "    drawing.add_shape(circle)\n",
    "\n",
    "    # Save the drawing\n",
    "    filename = 'drawing.txt'\n",
    "    drawing.save(filename)\n",
    "\n",
    "    # Load the drawing\n",
    "    loaded_drawing = load_drawing(filename)\n",
    "\n",
    "    # Draw and display the loaded drawing\n",
    "    loaded_drawing.draw(canvas)\n",
    "    print(\"Loaded Drawing Display:\")\n",
    "    canvas.display()\n",
    "\n",
    "if __name__ == \"__main__\":\n",
    "    main()"
   ]
  },
  {
   "cell_type": "code",
   "execution_count": null,
   "metadata": {},
   "outputs": [],
   "source": []
  },
  {
   "cell_type": "code",
   "execution_count": null,
   "metadata": {},
   "outputs": [],
   "source": []
  }
 ],
 "metadata": {
  "kernelspec": {
   "display_name": "Python 3 (ipykernel)",
   "language": "python",
   "name": "python3"
  },
  "language_info": {
   "codemirror_mode": {
    "name": "ipython",
    "version": 3
   },
   "file_extension": ".py",
   "mimetype": "text/x-python",
   "name": "python",
   "nbconvert_exporter": "python",
   "pygments_lexer": "ipython3",
   "version": "3.10.12"
  }
 },
 "nbformat": 4,
 "nbformat_minor": 4
}
