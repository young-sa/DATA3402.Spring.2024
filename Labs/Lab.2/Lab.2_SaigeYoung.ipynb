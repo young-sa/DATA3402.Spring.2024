{
 "cells": [
  {
   "cell_type": "markdown",
   "metadata": {},
   "source": [
    "## Lab 2- Tic Tac Toe\n",
    "\n",
    "In this lab your will build a n x n Tic Tac Toe game. As you do the exercises, make sure your solutions work for any size Tic Tac Toe game. "
   ]
  },
  {
   "cell_type": "markdown",
   "metadata": {},
   "source": [
    "*Exercise 1:* Write a function that creates an n by n matrix (of list of lists) which will represent the state of a Tie Tac Toe game. Let 0, 1, and 2 represent empty, \"X\", and \"O\", respectively.\n"
   ]
  },
  {
   "cell_type": "code",
   "execution_count": 98,
   "metadata": {},
   "outputs": [
    {
     "name": "stdout",
     "output_type": "stream",
     "text": [
      "[0, 0, 0]\n",
      "[0, 0, 0]\n",
      "[0, 0, 0]\n"
     ]
    }
   ],
   "source": [
    "def tic_tac_board(n):\n",
    "    return [[0 for _ in range(n)] for _ in range(n)]\n",
    "# board is empty to start\n",
    "n=3\n",
    "board = tic_tac_board(n)\n",
    "for row in board:\n",
    "    print(row)"
   ]
  },
  {
   "cell_type": "code",
   "execution_count": 99,
   "metadata": {},
   "outputs": [
    {
     "name": "stdout",
     "output_type": "stream",
     "text": [
      "|X| | |\n",
      "| | |O|\n",
      "| | | |\n",
      "[1, 0, 0]\n",
      "[0, 0, 2]\n",
      "[0, 0, 0]\n"
     ]
    }
   ],
   "source": [
    "def tic_tac_board(n):\n",
    "    return [[0 for _ in range(n)] for _ in range(n)]\n",
    "    \n",
    "def make_move(board, row, col, player):\n",
    "    if 0 <= row < len(board) and 0 <= col < len(board) and board[row][col] == 0:\n",
    "        board[row][col] = player\n",
    "        return True\n",
    "    else:\n",
    "        return False\n",
    "\n",
    "\n",
    "def display_board(board):\n",
    "    symbols = {0: \" \", 1: \"X\", 2: \"O\"}\n",
    "    for row in board:\n",
    "        print(\"|\" + \"|\".join(symbols[cell] for cell in row) + \"|\")\n",
    "\n",
    "n=3\n",
    "board = tic_tac_board(n)\n",
    "make_move(board, 0, 0, 1)\n",
    "make_move(board, 1, 2, 2)\n",
    "display_board(board)\n",
    "for row in board:\n",
    "    print(row)"
   ]
  },
  {
   "cell_type": "markdown",
   "metadata": {},
   "source": [
    "*Exercise 2:* Write a function that takes 2 integers `n` and `m` as input and draws a `n` by `m` game board. For example the following is a 3x3 board:\n",
    "```\n",
    "   --- --- --- \n",
    "  |   |   |   | \n",
    "   --- --- ---  \n",
    "  |   |   |   | \n",
    "   --- --- ---  \n",
    "  |   |   |   | \n",
    "   --- --- --- \n",
    "   ```"
   ]
  },
  {
   "cell_type": "code",
   "execution_count": 103,
   "metadata": {},
   "outputs": [
    {
     "name": "stdout",
     "output_type": "stream",
     "text": [
      " --- --- --- \n",
      "|   |   |   |\n",
      " --- --- --- \n",
      "|   |   |   |\n",
      " --- --- --- \n",
      "|   |   |   |\n",
      " --- --- --- \n"
     ]
    }
   ],
   "source": [
    "def draw_board(n, m):\n",
    "    for row in range(n * 2 + 1):\n",
    "        if row % 2 == 0:\n",
    "            print(\" \" + \"--- \" * m)\n",
    "        else:\n",
    "            print(\"|\" + \"   |\" * m)\n",
    "\n",
    "# n=# of rows, m=# of col\n",
    "n = 3\n",
    "m = 3\n",
    "draw_board(n, m)"
   ]
  },
  {
   "cell_type": "markdown",
   "metadata": {},
   "source": [
    "*Exercise 3:* Modify exercise 2, so that it takes a matrix of the form from exercise 1 and draws a tic-tac-tie board with \"X\"s and \"O\"s.  "
   ]
  },
  {
   "cell_type": "code",
   "execution_count": 104,
   "metadata": {},
   "outputs": [],
   "source": [
    "def draw_tic_tac_board(matrix):\n",
    "    n = len(matrix)\n",
    "    symbols = {0: \" \", 1: \"X\", 2: \"O\"}\n",
    "    \n",
    "    for row in range(n * 2 + 1):\n",
    "        if row % 2 == 0:\n",
    "            print(\" \" + \"--- \" * n)\n",
    "        else:\n",
    "            board_row = (row - 1) // 2\n",
    "            line = \"|\"\n",
    "            for col in range(n):\n",
    "                line += f\" {symbols[matrix[board_row][col]]} |\"\n",
    "            print(line)"
   ]
  },
  {
   "cell_type": "code",
   "execution_count": 105,
   "metadata": {},
   "outputs": [
    {
     "name": "stdout",
     "output_type": "stream",
     "text": [
      " --- --- --- \n",
      "| X |   | O |\n",
      " --- --- --- \n",
      "| O | X |   |\n",
      " --- --- --- \n",
      "|   | O | X |\n",
      " --- --- --- \n"
     ]
    }
   ],
   "source": [
    "matrix = [\n",
    "    [1, 0, 2],\n",
    "    [2, 1, 0],\n",
    "    [0, 2, 1]\n",
    "]\n",
    "draw_tic_tac_board(matrix)"
   ]
  },
  {
   "cell_type": "markdown",
   "metadata": {},
   "source": [
    "*Exercise 4:* Write a function that takes a `n` by `n` matrix representing a tic-tac-toe game, and returns -1, 0, 1, or 2 indicating the game is incomplete, the game is a draw, player 1 has won, or player 2 has one, respectively. Here are some example inputs you can use to test your code:"
   ]
  },
  {
   "cell_type": "code",
   "execution_count": 106,
   "metadata": {},
   "outputs": [],
   "source": [
    "def check_game_status(board):\n",
    "    n = len(board)\n",
    "    rows = [0] * n\n",
    "    cols = [0] * n\n",
    "    diag = 0\n",
    "    anti_diag = 0\n",
    "    empty = False\n",
    "\n",
    "    for i in range(n):\n",
    "        for j in range(n):\n",
    "            #empty spaces\n",
    "            if board[i][j] == 0:\n",
    "                empty = True\n",
    "            #row/col/diag\n",
    "            if board[i][j] == 1:\n",
    "                rows[i] += 1\n",
    "                cols[j] += 1\n",
    "                if i == j:\n",
    "                    diag += 1\n",
    "                if i + j == n - 1:\n",
    "                    anti_diag += 1\n",
    "            elif board[i][j] == 2:\n",
    "                rows[i] -= 1\n",
    "                cols[j] -= 1\n",
    "                if i == j:\n",
    "                    diag -= 1\n",
    "                if i + j == n - 1:\n",
    "                    anti_diag -= 1\n",
    "\n",
    "    \n",
    "    win_condition = n\n",
    "    if win_condition in rows or win_condition in cols or win_condition == diag or win_condition == anti_diag:\n",
    "        return 1 \n",
    "    if -win_condition in rows or -win_condition in cols or -win_condition == diag or -win_condition == anti_diag:\n",
    "        return 2\n",
    "        return 0 if not empty else -1"
   ]
  },
  {
   "cell_type": "code",
   "execution_count": 107,
   "metadata": {},
   "outputs": [
    {
     "name": "stdout",
     "output_type": "stream",
     "text": [
      "2\n",
      "1\n",
      "None\n"
     ]
    }
   ],
   "source": [
    "winner_is_2 = [[2, 2, 0],\n",
    "\t[2, 1, 0],\n",
    "\t[2, 1, 1]]\n",
    "print(check_game_status(winner_is_2))\n",
    "\n",
    "winner_is_1 = [[1, 2, 0],\n",
    "\t[2, 1, 0],\n",
    "\t[2, 1, 1]]\n",
    "print(check_game_status(winner_is_1))\n",
    "\n",
    "no_winner = [[1, 2, 0],\n",
    "\t[2, 1, 0],\n",
    "\t[2, 1, 2]]\n",
    "print(check_game_status(no_winner))"
   ]
  },
  {
   "cell_type": "code",
   "execution_count": 108,
   "metadata": {},
   "outputs": [],
   "source": [
    "winner_is_2 = [[2, 2, 0],\n",
    "\t[2, 1, 0],\n",
    "\t[2, 1, 1]]\n",
    "\n",
    "winner_is_1 = [[1, 2, 0],\n",
    "\t[2, 1, 0],\n",
    "\t[2, 1, 1]]\n",
    "\n",
    "winner_is_also_1 = [[0, 1, 0],\n",
    "\t[2, 1, 0],\n",
    "\t[2, 1, 1]]\n",
    "\n",
    "no_winner = [[1, 2, 0],\n",
    "\t[2, 1, 0],\n",
    "\t[2, 1, 2]]\n",
    "\n",
    "also_no_winner = [[1, 2, 0],\n",
    "\t[2, 1, 0],\n",
    "\t[2, 1, 0]]"
   ]
  },
  {
   "cell_type": "markdown",
   "metadata": {},
   "source": [
    "*Exercise 5:* Write a function that takes a game board, player number, and `(x,y)` coordinates and places \"X\" or \"O\" in the correct location of the game board. Make sure that you only allow filling previously empty locations. Return `True` or `False` to indicate successful placement of \"X\" or \"O\"."
   ]
  },
  {
   "cell_type": "code",
   "execution_count": 111,
   "metadata": {},
   "outputs": [],
   "source": [
    "def display_board(board):\n",
    "    symbols = {0: \" \", 1: \"X\", 2: \"O\"}\n",
    "    for row in board:\n",
    "        print(\"|\" + \"|\".join(symbols[cell] for cell in row) + \"|\")\n",
    "\n",
    "def place_marker(board, player, x, y):\n",
    "    if x < 0 or x >= len(board) or y < 0 or y >= len(board):\n",
    "        return False\n",
    "    \n",
    "    #check empty\n",
    "    if board[x][y] == 0:\n",
    "        board[x][y] = player\n",
    "        display_board(board)\n",
    "        return True\n",
    "    else:\n",
    "        return False"
   ]
  },
  {
   "cell_type": "code",
   "execution_count": 112,
   "metadata": {},
   "outputs": [
    {
     "name": "stdout",
     "output_type": "stream",
     "text": [
      "| | | |\n",
      "| |X| |\n",
      "| | | |\n",
      "Placement success: True\n",
      "Placement success: False\n"
     ]
    }
   ],
   "source": [
    "#empty board\n",
    "board = [[0, 0, 0], [0, 0, 0], [0, 0, 0]]\n",
    "\n",
    "print(\"Placement success:\", place_marker(board, 1, 1, 1))\n",
    "print(\"Placement success:\", place_marker(board, 2, 1, 1))"
   ]
  },
  {
   "cell_type": "markdown",
   "metadata": {},
   "source": [
    "*Exercise 6:* Modify Exercise 4 to show column and row labels so that players can specify location using \"A2\" or \"C1\"."
   ]
  },
  {
   "cell_type": "code",
   "execution_count": 113,
   "metadata": {},
   "outputs": [],
   "source": [
    "def display_board(board):\n",
    "    #making lables for board \n",
    "    symbols = {0: \" \", 1: \"X\", 2: \"O\"}\n",
    "    columns_label = \"  \" + \"  \".join(chr(ord('A') + i) for i in range(len(board))) + \"  \"\n",
    "    print(columns_label)\n",
    "    for row_index, row in enumerate(board):\n",
    "        print(str(row_index + 1) + \" \" + \"|\".join(symbols[cell] for cell in row) + \" \" + str(row_index + 1))\n",
    "        if row_index < len(board) - 1:\n",
    "            print(\"  \" + \"---\" * len(board))\n",
    "\n",
    "def translate_position(position):\n",
    "    #i had to look up how to do some of this bc it wouldn't print correctly\n",
    "    column = ord(position[0].upper()) - ord('A')\n",
    "    row = int(position[1]) - 1\n",
    "    return row, column\n",
    "\n"
   ]
  },
  {
   "cell_type": "markdown",
   "metadata": {},
   "source": [
    "*Exercise 7:* Write a function that takes a board, player number, and location specified as in exercise 6 and then calls exercise 5 to correctly modify the board.  "
   ]
  },
  {
   "cell_type": "code",
   "execution_count": 114,
   "metadata": {},
   "outputs": [],
   "source": [
    "def place_marker(board, player, x, y):\n",
    "    if x < 0 or x >= len(board) or y < 0 or y >= len(board):\n",
    "        return False\n",
    "    \n",
    "    #checking if empty\n",
    "    if board[x][y] == 0:\n",
    "        board[x][y] = player\n",
    "        display_board(board)\n",
    "        return True\n",
    "    else:\n",
    "        print(\"Position already taken. Try again.\")\n",
    "        return False"
   ]
  },
  {
   "cell_type": "code",
   "execution_count": 115,
   "metadata": {},
   "outputs": [
    {
     "name": "stdout",
     "output_type": "stream",
     "text": [
      "  A  B  C  \n",
      "1  | |  1\n",
      "  ---------\n",
      "2  | |  2\n",
      "  ---------\n",
      "3  | |  3\n",
      "  A  B  C  \n",
      "1 X| |  1\n",
      "  ---------\n",
      "2  | |  2\n",
      "  ---------\n",
      "3  | |  3\n",
      "Placement successful: True\n",
      "  A  B  C  \n",
      "1 X| |  1\n",
      "  ---------\n",
      "2  | |O 2\n",
      "  ---------\n",
      "3  | |  3\n",
      "Placement successful: True\n"
     ]
    }
   ],
   "source": [
    "#empty board\n",
    "board = [[0, 0, 0], [0, 0, 0], [0, 0, 0]]\n",
    "display_board(board)\n",
    "print(\"Placement successful:\", place_marker_with_position(board, 1, \"A1\"))  #player1 places X at A1\n",
    "print(\"Placement successful:\", place_marker_with_position(board, 2, \"C2\")) #player2 places O at C2"
   ]
  },
  {
   "cell_type": "markdown",
   "metadata": {},
   "source": [
    "*Exercise 8:* Write a function is called with a board and player number, takes input from the player using python's `input`, and modifies the board using your function from exercise 7. Note that you should keep asking for input until you have gotten a valid input that results in a valid move."
   ]
  },
  {
   "cell_type": "code",
   "execution_count": 116,
   "metadata": {},
   "outputs": [],
   "source": [
    "def player_move(board, player):\n",
    "    move_made = False\n",
    "    while not move_made:\n",
    "        player_input = input(f\"Player {player}, enter your move (A1, B2, etc.): \")\n",
    "        try:\n",
    "            if len(player_input) != 2 or not player_input[0].isalpha() or not player_input[1].isdigit():\n",
    "                print(\"Invalid input format. Please use the format 'A1', 'B2', etc.\")\n",
    "                continue\n",
    "\n",
    "            move_made = place_marker_with_position(board, player, player_input)\n",
    "            if not move_made:\n",
    "                print(\"Invalid move or position already taken. Please try again.\")\n",
    "        except ValueError:\n",
    "            print(\"Invalid input. Please try again.\")\n",
    "\n",
    "def place_marker_with_position(board, player, position):\n",
    "    x, y = translate_position(position)\n",
    "    return place_marker(board, player, x, y)"
   ]
  },
  {
   "cell_type": "code",
   "execution_count": 117,
   "metadata": {},
   "outputs": [
    {
     "name": "stdin",
     "output_type": "stream",
     "text": [
      "Player 1, enter your move (A1, B2, etc.):  C2\n"
     ]
    },
    {
     "name": "stdout",
     "output_type": "stream",
     "text": [
      "  A  B  C  \n",
      "1  | |  1\n",
      "  ---------\n",
      "2  | |X 2\n",
      "  ---------\n",
      "3  | |  3\n"
     ]
    }
   ],
   "source": [
    "board = [[0, 0, 0], [0, 0, 0], [0, 0, 0]]\n",
    "\n",
    "#player1 makes a move\n",
    "player_move(board, 1) "
   ]
  },
  {
   "cell_type": "markdown",
   "metadata": {},
   "source": [
    "*Exercise 9:* Use all of the previous exercises to implement a full tic-tac-toe game, where an appropriate board is drawn, 2 players are repeatedly asked for a location coordinates of where they wish to place a mark, and the game status is checked until a player wins or a draw occurs."
   ]
  },
  {
   "cell_type": "code",
   "execution_count": 118,
   "metadata": {},
   "outputs": [
    {
     "name": "stdout",
     "output_type": "stream",
     "text": [
      "  A B C\n",
      "1   |   |  \n",
      "2   |   |  \n",
      "3   |   |  \n"
     ]
    },
    {
     "name": "stdin",
     "output_type": "stream",
     "text": [
      "Player 1, enter your move (A1, B2, etc.):  A2\n"
     ]
    },
    {
     "name": "stdout",
     "output_type": "stream",
     "text": [
      "  A B C\n",
      "1   |   |  \n",
      "2 X |   |  \n",
      "3   |   |  \n",
      "  A B C\n",
      "1   |   |  \n",
      "2 X |   |  \n",
      "3   |   |  \n"
     ]
    },
    {
     "name": "stdin",
     "output_type": "stream",
     "text": [
      "Player 2, enter your move (A1, B2, etc.):  C5\n"
     ]
    },
    {
     "name": "stdout",
     "output_type": "stream",
     "text": [
      "Invalid move or position already taken. Please try again.\n"
     ]
    },
    {
     "name": "stdin",
     "output_type": "stream",
     "text": [
      "Player 2, enter your move (A1, B2, etc.):  C3\n"
     ]
    },
    {
     "name": "stdout",
     "output_type": "stream",
     "text": [
      "  A B C\n",
      "1   |   |  \n",
      "2 X |   |  \n",
      "3   |   | O\n",
      "  A B C\n",
      "1   |   |  \n",
      "2 X |   |  \n",
      "3   |   | O\n"
     ]
    },
    {
     "name": "stdin",
     "output_type": "stream",
     "text": [
      "Player 1, enter your move (A1, B2, etc.):  A1\n"
     ]
    },
    {
     "name": "stdout",
     "output_type": "stream",
     "text": [
      "  A B C\n",
      "1 X |   |  \n",
      "2 X |   |  \n",
      "3   |   | O\n",
      "  A B C\n",
      "1 X |   |  \n",
      "2 X |   |  \n",
      "3   |   | O\n"
     ]
    },
    {
     "name": "stdin",
     "output_type": "stream",
     "text": [
      "Player 2, enter your move (A1, B2, etc.):  B3\n"
     ]
    },
    {
     "name": "stdout",
     "output_type": "stream",
     "text": [
      "  A B C\n",
      "1 X |   |  \n",
      "2 X |   |  \n",
      "3   | O | O\n",
      "  A B C\n",
      "1 X |   |  \n",
      "2 X |   |  \n",
      "3   | O | O\n"
     ]
    },
    {
     "name": "stdin",
     "output_type": "stream",
     "text": [
      "Player 1, enter your move (A1, B2, etc.):  A3\n"
     ]
    },
    {
     "name": "stdout",
     "output_type": "stream",
     "text": [
      "  A B C\n",
      "1 X |   |  \n",
      "2 X |   |  \n",
      "3 X | O | O\n",
      "  A B C\n",
      "1 X |   |  \n",
      "2 X |   |  \n",
      "3 X | O | O\n",
      "Player 1 wins!\n"
     ]
    }
   ],
   "source": [
    "def initialize_board(n=3):\n",
    "    return [[0 for _ in range(n)] for _ in range(n)]\n",
    "\n",
    "def display_board(board):\n",
    "    symbols = {0: \" \", 1: \"X\", 2: \"O\"}\n",
    "    print(\"  \" + \" \".join(chr(65+i) for i in range(len(board))))\n",
    "    for i, row in enumerate(board):\n",
    "        print(str(i+1) + \" \" + \" | \".join(symbols[cell] for cell in row))\n",
    "\n",
    "def check_game_status(board):\n",
    "    n = len(board)\n",
    "    for i in range(n):\n",
    "        if all(board[i][j] == 1 for j in range(n)) or all(board[j][i] == 1 for j in range(n)):\n",
    "            return 1\n",
    "        if all(board[i][j] == 2 for j in range(n)) or all(board[j][i] == 2 for j in range(n)):\n",
    "            return 2\n",
    "\n",
    "    if all(board[i][i] == 1 for i in range(n)) or all(board[i][n-i-1] == 1 for i in range(n)):\n",
    "        return 1\n",
    "    if all(board[i][i] == 2 for i in range(n)) or all(board[i][n-i-1] == 2 for i in range(n)):\n",
    "        return 2\n",
    "\n",
    "    #draws\n",
    "    if all(board[i][j] != 0 for i in range(n) for j in range(n)):\n",
    "        return 0\n",
    "    \n",
    "    return -1  # Game is ongoing\n",
    "\n",
    "def main():\n",
    "    board = initialize_board()\n",
    "    current_player = 1\n",
    "    game_status = -1\n",
    "    \n",
    "    while game_status == -1:\n",
    "        display_board(board)\n",
    "        player_move(board, current_player)\n",
    "        game_status = check_game_status(board)\n",
    "        \n",
    "        if game_status == -1:\n",
    "            current_player = 3 - current_player  #player switches\n",
    "    \n",
    "    display_board(board)\n",
    "    if game_status == 0:\n",
    "        print(\"The game is a draw.\")\n",
    "    else:\n",
    "        print(f\"Player {game_status} wins!\")\n",
    "\n",
    "if __name__ == \"__main__\":\n",
    "    main()"
   ]
  },
  {
   "cell_type": "markdown",
   "metadata": {},
   "source": [
    "*Exercise 10:* Test that your game works for 5x5 Tic Tac Toe.  "
   ]
  },
  {
   "cell_type": "code",
   "execution_count": 119,
   "metadata": {},
   "outputs": [
    {
     "name": "stdout",
     "output_type": "stream",
     "text": [
      "  A B C D E\n",
      "1   |   |   |   |  \n",
      "2   |   |   |   |  \n",
      "3   |   |   |   |  \n",
      "4   |   |   |   |  \n",
      "5   |   |   |   |  \n"
     ]
    },
    {
     "name": "stdin",
     "output_type": "stream",
     "text": [
      "Player 1, enter your move (A1, B2, etc.):  A5\n"
     ]
    },
    {
     "name": "stdout",
     "output_type": "stream",
     "text": [
      "  A B C D E\n",
      "1   |   |   |   |  \n",
      "2   |   |   |   |  \n",
      "3   |   |   |   |  \n",
      "4   |   |   |   |  \n",
      "5 X |   |   |   |  \n",
      "  A B C D E\n",
      "1   |   |   |   |  \n",
      "2   |   |   |   |  \n",
      "3   |   |   |   |  \n",
      "4   |   |   |   |  \n",
      "5 X |   |   |   |  \n"
     ]
    },
    {
     "name": "stdin",
     "output_type": "stream",
     "text": [
      "Player 2, enter your move (A1, B2, etc.):  B2\n"
     ]
    },
    {
     "name": "stdout",
     "output_type": "stream",
     "text": [
      "  A B C D E\n",
      "1   |   |   |   |  \n",
      "2   | O |   |   |  \n",
      "3   |   |   |   |  \n",
      "4   |   |   |   |  \n",
      "5 X |   |   |   |  \n",
      "  A B C D E\n",
      "1   |   |   |   |  \n",
      "2   | O |   |   |  \n",
      "3   |   |   |   |  \n",
      "4   |   |   |   |  \n",
      "5 X |   |   |   |  \n"
     ]
    },
    {
     "name": "stdin",
     "output_type": "stream",
     "text": [
      "Player 1, enter your move (A1, B2, etc.):  B4\n"
     ]
    },
    {
     "name": "stdout",
     "output_type": "stream",
     "text": [
      "  A B C D E\n",
      "1   |   |   |   |  \n",
      "2   | O |   |   |  \n",
      "3   |   |   |   |  \n",
      "4   | X |   |   |  \n",
      "5 X |   |   |   |  \n",
      "  A B C D E\n",
      "1   |   |   |   |  \n",
      "2   | O |   |   |  \n",
      "3   |   |   |   |  \n",
      "4   | X |   |   |  \n",
      "5 X |   |   |   |  \n"
     ]
    },
    {
     "name": "stdin",
     "output_type": "stream",
     "text": [
      "Player 2, enter your move (A1, B2, etc.):  B2\n"
     ]
    },
    {
     "name": "stdout",
     "output_type": "stream",
     "text": [
      "Position already taken. Try again.\n",
      "Invalid move or position already taken. Please try again.\n"
     ]
    },
    {
     "name": "stdin",
     "output_type": "stream",
     "text": [
      "Player 2, enter your move (A1, B2, etc.):  C2\n"
     ]
    },
    {
     "name": "stdout",
     "output_type": "stream",
     "text": [
      "  A B C D E\n",
      "1   |   |   |   |  \n",
      "2   | O | O |   |  \n",
      "3   |   |   |   |  \n",
      "4   | X |   |   |  \n",
      "5 X |   |   |   |  \n",
      "  A B C D E\n",
      "1   |   |   |   |  \n",
      "2   | O | O |   |  \n",
      "3   |   |   |   |  \n",
      "4   | X |   |   |  \n",
      "5 X |   |   |   |  \n"
     ]
    },
    {
     "name": "stdin",
     "output_type": "stream",
     "text": [
      "Player 1, enter your move (A1, B2, etc.):  C3\n"
     ]
    },
    {
     "name": "stdout",
     "output_type": "stream",
     "text": [
      "  A B C D E\n",
      "1   |   |   |   |  \n",
      "2   | O | O |   |  \n",
      "3   |   | X |   |  \n",
      "4   | X |   |   |  \n",
      "5 X |   |   |   |  \n",
      "  A B C D E\n",
      "1   |   |   |   |  \n",
      "2   | O | O |   |  \n",
      "3   |   | X |   |  \n",
      "4   | X |   |   |  \n",
      "5 X |   |   |   |  \n"
     ]
    },
    {
     "name": "stdin",
     "output_type": "stream",
     "text": [
      "Player 2, enter your move (A1, B2, etc.):  A2\n"
     ]
    },
    {
     "name": "stdout",
     "output_type": "stream",
     "text": [
      "  A B C D E\n",
      "1   |   |   |   |  \n",
      "2 O | O | O |   |  \n",
      "3   |   | X |   |  \n",
      "4   | X |   |   |  \n",
      "5 X |   |   |   |  \n",
      "  A B C D E\n",
      "1   |   |   |   |  \n",
      "2 O | O | O |   |  \n",
      "3   |   | X |   |  \n",
      "4   | X |   |   |  \n",
      "5 X |   |   |   |  \n"
     ]
    },
    {
     "name": "stdin",
     "output_type": "stream",
     "text": [
      "Player 1, enter your move (A1, B2, etc.):  D2\n"
     ]
    },
    {
     "name": "stdout",
     "output_type": "stream",
     "text": [
      "  A B C D E\n",
      "1   |   |   |   |  \n",
      "2 O | O | O | X |  \n",
      "3   |   | X |   |  \n",
      "4   | X |   |   |  \n",
      "5 X |   |   |   |  \n",
      "  A B C D E\n",
      "1   |   |   |   |  \n",
      "2 O | O | O | X |  \n",
      "3   |   | X |   |  \n",
      "4   | X |   |   |  \n",
      "5 X |   |   |   |  \n"
     ]
    },
    {
     "name": "stdin",
     "output_type": "stream",
     "text": [
      "Player 2, enter your move (A1, B2, etc.):  B1\n"
     ]
    },
    {
     "name": "stdout",
     "output_type": "stream",
     "text": [
      "  A B C D E\n",
      "1   | O |   |   |  \n",
      "2 O | O | O | X |  \n",
      "3   |   | X |   |  \n",
      "4   | X |   |   |  \n",
      "5 X |   |   |   |  \n",
      "  A B C D E\n",
      "1   | O |   |   |  \n",
      "2 O | O | O | X |  \n",
      "3   |   | X |   |  \n",
      "4   | X |   |   |  \n",
      "5 X |   |   |   |  \n"
     ]
    },
    {
     "name": "stdin",
     "output_type": "stream",
     "text": [
      "Player 1, enter your move (A1, B2, etc.):  E1\n"
     ]
    },
    {
     "name": "stdout",
     "output_type": "stream",
     "text": [
      "  A B C D E\n",
      "1   | O |   |   | X\n",
      "2 O | O | O | X |  \n",
      "3   |   | X |   |  \n",
      "4   | X |   |   |  \n",
      "5 X |   |   |   |  \n",
      "  A B C D E\n",
      "1   | O |   |   | X\n",
      "2 O | O | O | X |  \n",
      "3   |   | X |   |  \n",
      "4   | X |   |   |  \n",
      "5 X |   |   |   |  \n",
      "Player 1 wins!\n"
     ]
    }
   ],
   "source": [
    "def initialize_board(n=5):\n",
    "    return [[0 for _ in range(n)] for _ in range(n)]\n",
    "\n",
    "def display_board(board):\n",
    "    symbols = {0: \" \", 1: \"X\", 2: \"O\"}\n",
    "    print(\"  \" + \" \".join(chr(65+i) for i in range(len(board))))\n",
    "    for i, row in enumerate(board):\n",
    "        print(str(i+1) + \" \" + \" | \".join(symbols[cell] for cell in row))\n",
    "\n",
    "def check_game_status(board):\n",
    "    n = len(board)\n",
    "    for i in range(n):\n",
    "        if all(board[i][j] == 1 for j in range(n)) or all(board[j][i] == 1 for j in range(n)):\n",
    "            return 1\n",
    "        if all(board[i][j] == 2 for j in range(n)) or all(board[j][i] == 2 for j in range(n)):\n",
    "            return 2\n",
    "\n",
    "    if all(board[i][i] == 1 for i in range(n)) or all(board[i][n-i-1] == 1 for i in range(n)):\n",
    "        return 1\n",
    "    if all(board[i][i] == 2 for i in range(n)) or all(board[i][n-i-1] == 2 for i in range(n)):\n",
    "        return 2\n",
    "\n",
    "    if all(board[i][j] != 0 for i in range(n) for j in range(n)):\n",
    "        return 0\n",
    "    \n",
    "    return -1  \n",
    "\n",
    "def main():\n",
    "    board = initialize_board()\n",
    "    current_player = 1\n",
    "    game_status = -1\n",
    "    \n",
    "    while game_status == -1:\n",
    "        display_board(board)\n",
    "        player_move(board, current_player)\n",
    "        game_status = check_game_status(board)\n",
    "        \n",
    "        if game_status == -1:\n",
    "            current_player = 3 - current_player  #switches players\n",
    "    \n",
    "    display_board(board)\n",
    "    if game_status == 0:\n",
    "        print(\"The game is a draw.\")\n",
    "    else:\n",
    "        print(f\"Player {game_status} wins!\")\n",
    "\n",
    "if __name__ == \"__main__\":\n",
    "    main()"
   ]
  },
  {
   "cell_type": "markdown",
   "metadata": {},
   "source": [
    "#### *Exercise 11:* (Advanced / Challenge) Develop a version of the game where one player is the computer. Note that you don't need to do an extensive seach for the best move. You can have the computer simply protect against loosing and otherwise try to win with straight or diagonal patterns."
   ]
  },
  {
   "cell_type": "code",
   "execution_count": null,
   "metadata": {
    "collapsed": true,
    "jupyter": {
     "outputs_hidden": true
    }
   },
   "outputs": [],
   "source": [
    "# Write you solution here"
   ]
  },
  {
   "cell_type": "code",
   "execution_count": null,
   "metadata": {
    "collapsed": true,
    "jupyter": {
     "outputs_hidden": true
    }
   },
   "outputs": [],
   "source": [
    "# Test your solution here"
   ]
  }
 ],
 "metadata": {
  "kernelspec": {
   "display_name": "Python 3 (ipykernel)",
   "language": "python",
   "name": "python3"
  },
  "language_info": {
   "codemirror_mode": {
    "name": "ipython",
    "version": 3
   },
   "file_extension": ".py",
   "mimetype": "text/x-python",
   "name": "python",
   "nbconvert_exporter": "python",
   "pygments_lexer": "ipython3",
   "version": "3.10.12"
  }
 },
 "nbformat": 4,
 "nbformat_minor": 4
}
