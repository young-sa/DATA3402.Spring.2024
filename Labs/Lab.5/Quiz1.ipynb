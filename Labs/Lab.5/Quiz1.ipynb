{
 "cells": [
  {
   "cell_type": "markdown",
   "id": "c6825b9f-19c1-4868-9040-d3ba958b1c0a",
   "metadata": {},
   "source": [
    "Can you rewrite create_new_args as a two lines of code using functional programming, list comprehensions, and shortcuts? How about a single line?"
   ]
  },
  {
   "cell_type": "code",
   "execution_count": 33,
   "id": "39181c60-a9a3-413a-99f8-ee352065a4cd",
   "metadata": {},
   "outputs": [],
   "source": [
    "def create_new_args_0(args):\n",
    "    max_len = max(map(len,\n",
    "                      filter(lambda x: isinstance(x,list),\n",
    "                        args)))\n",
    "\n",
    "    # Rewrite this section:\n",
    "    new_args=list()\n",
    "\n",
    "    for a in args:\n",
    "        if not isinstance(a,list):\n",
    "            a0=[a]*max_len\n",
    "        elif len(a)!=max_len:\n",
    "            print(\"Error: all list arguments must have same length.\")\n",
    "            return\n",
    "        else:\n",
    "            a0=a\n",
    "        new_args.append(a0)\n",
    "\n",
    "    return new_args"
   ]
  },
  {
   "cell_type": "code",
   "execution_count": 34,
   "id": "eadbeaaf-c83f-44f9-9da6-5cfcd603b803",
   "metadata": {},
   "outputs": [
    {
     "data": {
      "text/plain": [
       "[[1, 2], [3, 4], [5, 5]]"
      ]
     },
     "execution_count": 34,
     "metadata": {},
     "output_type": "execute_result"
    }
   ],
   "source": [
    "create_new_args_0([[1,2],[3,4],5])"
   ]
  },
  {
   "cell_type": "code",
   "execution_count": 35,
   "id": "7a9ddaa6-5bc7-4312-a2fb-009b91efd568",
   "metadata": {},
   "outputs": [
    {
     "name": "stdout",
     "output_type": "stream",
     "text": [
      "Error: all list arguments must have same length.\n"
     ]
    }
   ],
   "source": [
    "create_new_args_0([[1,2],[3,4,5],5])"
   ]
  },
  {
   "cell_type": "code",
   "execution_count": 36,
   "id": "cef0d13e-f3d3-4508-b991-4a6398c26b87",
   "metadata": {},
   "outputs": [],
   "source": [
    "def create_new_args_1(args):\n",
    "    max_len = max(len(a) for a in args if isinstance(a, list))\n",
    "    return [a if isinstance(a, list) and len(a) == max_len else [a] * max_len for a in args]\n"
   ]
  },
  {
   "cell_type": "code",
   "execution_count": 37,
   "id": "327a2490-7fbc-4c15-bd86-5fa28bd4ad35",
   "metadata": {},
   "outputs": [
    {
     "data": {
      "text/plain": [
       "[[[1, 2], [1, 2], [1, 2]], [3, 4, 5], [5, 5, 5]]"
      ]
     },
     "execution_count": 37,
     "metadata": {},
     "output_type": "execute_result"
    }
   ],
   "source": [
    "create_new_args_1([[1,2],[3,4,5],5])"
   ]
  },
  {
   "cell_type": "code",
   "execution_count": 38,
   "id": "fe8475af-5a71-4fdc-9a02-043e4c91da3e",
   "metadata": {},
   "outputs": [],
   "source": [
    "def create_new_args_0(args):\n",
    "    max_len = max(map(len,\n",
    "                      filter(lambda x: isinstance(x,list),\n",
    "                        args)))\n",
    "def create_new_args(args):\n",
    "    return [[a] * max(map(len, filter(lambda x: isinstance(x, list), args))) if not isinstance(a, list) else a for a in args]\n"
   ]
  },
  {
   "cell_type": "code",
   "execution_count": 39,
   "id": "f03329aa-f42c-4884-b15d-2d3b05d50dfb",
   "metadata": {},
   "outputs": [
    {
     "data": {
      "text/plain": [
       "[[1, 2], [3, 4, 5], [5, 5, 5]]"
      ]
     },
     "execution_count": 39,
     "metadata": {},
     "output_type": "execute_result"
    }
   ],
   "source": [
    "create_new_args([[1,2],[3,4,5],5])"
   ]
  },
  {
   "cell_type": "code",
   "execution_count": null,
   "id": "04f138bc-3a79-4f64-ad02-8788019f01d9",
   "metadata": {},
   "outputs": [],
   "source": []
  }
 ],
 "metadata": {
  "kernelspec": {
   "display_name": "Python 3 (ipykernel)",
   "language": "python",
   "name": "python3"
  },
  "language_info": {
   "codemirror_mode": {
    "name": "ipython",
    "version": 3
   },
   "file_extension": ".py",
   "mimetype": "text/x-python",
   "name": "python",
   "nbconvert_exporter": "python",
   "pygments_lexer": "ipython3",
   "version": "3.10.12"
  }
 },
 "nbformat": 4,
 "nbformat_minor": 5
}
